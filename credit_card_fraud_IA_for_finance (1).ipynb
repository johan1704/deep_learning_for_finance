{
 "cells": [
  {
   "cell_type": "markdown",
   "id": "d7ce8352",
   "metadata": {
    "id": "d7ce8352"
   },
   "source": [
    "##Projet de détection de fraude par carte de crédit\n"
   ]
  },
  {
   "cell_type": "code",
   "execution_count": 1,
   "id": "8aacd0a9",
   "metadata": {
    "id": "8aacd0a9"
   },
   "outputs": [],
   "source": [
    "# Import the necessary modules\n",
    "\n",
    "import numpy as np\n",
    "import pandas as pd\n",
    "import matplotlib.pyplot as plt\n",
    "from collections import Counter\n",
    "import itertools\n",
    "from sklearn.preprocessing import MinMaxScaler\n",
    "ms = MinMaxScaler(feature_range=(0,1))\n",
    "from sklearn.preprocessing import StandardScaler\n",
    "from sklearn.model_selection import train_test_split\n",
    "from sklearn.ensemble import RandomForestClassifier\n",
    "from sklearn.tree import DecisionTreeClassifier\n",
    "from sklearn.metrics import accuracy_score, precision_score, confusion_matrix, recall_score, f1_score, mean_squared_error"
   ]
  },
  {
   "cell_type": "code",
   "execution_count": 2,
   "id": "GaKHRZMhy7cj",
   "metadata": {
    "id": "GaKHRZMhy7cj"
   },
   "outputs": [],
   "source": [
    "v1 = np.array([[1,3], [2,2]])\n",
    "v2 = np.array([[2,1], [3,1]])"
   ]
  },
  {
   "cell_type": "code",
   "execution_count": 3,
   "id": "63flPYH-zTDC",
   "metadata": {
    "colab": {
     "base_uri": "https://localhost:8080/"
    },
    "id": "63flPYH-zTDC",
    "outputId": "64b15f85-2355-4a36-f025-23515a70754a"
   },
   "outputs": [
    {
     "data": {
      "text/plain": [
       "array([[1, 3],\n",
       "       [2, 2]])"
      ]
     },
     "execution_count": 3,
     "metadata": {},
     "output_type": "execute_result"
    }
   ],
   "source": [
    "v1"
   ]
  },
  {
   "cell_type": "code",
   "execution_count": 4,
   "id": "ueOEvek81jxV",
   "metadata": {
    "colab": {
     "base_uri": "https://localhost:8080/"
    },
    "id": "ueOEvek81jxV",
    "outputId": "b385f19d-833b-44e1-d36c-e7415ba32ee4"
   },
   "outputs": [
    {
     "data": {
      "text/plain": [
       "array([[2, 1],\n",
       "       [3, 1]])"
      ]
     },
     "execution_count": 4,
     "metadata": {},
     "output_type": "execute_result"
    }
   ],
   "source": [
    "v2"
   ]
  },
  {
   "cell_type": "code",
   "execution_count": 5,
   "id": "oR5-XKz43P60",
   "metadata": {
    "id": "oR5-XKz43P60"
   },
   "outputs": [],
   "source": [
    "w = v1 - v2"
   ]
  },
  {
   "cell_type": "code",
   "execution_count": 6,
   "id": "P_gHV7oa3Vlj",
   "metadata": {
    "colab": {
     "base_uri": "https://localhost:8080/"
    },
    "id": "P_gHV7oa3Vlj",
    "outputId": "1d1ff563-c862-4496-9bb9-1cccf77df1bf"
   },
   "outputs": [
    {
     "data": {
      "text/plain": [
       "array([[-1,  2],\n",
       "       [-1,  1]])"
      ]
     },
     "execution_count": 6,
     "metadata": {},
     "output_type": "execute_result"
    }
   ],
   "source": [
    "w"
   ]
  },
  {
   "cell_type": "code",
   "execution_count": 7,
   "id": "Gm7YLACx3yUK",
   "metadata": {
    "colab": {
     "base_uri": "https://localhost:8080/"
    },
    "id": "Gm7YLACx3yUK",
    "outputId": "1073ddce-fe80-4364-94c9-be86ff6f0c62"
   },
   "outputs": [
    {
     "data": {
      "text/plain": [
       "array([[3, 4],\n",
       "       [5, 3]])"
      ]
     },
     "execution_count": 7,
     "metadata": {},
     "output_type": "execute_result"
    }
   ],
   "source": [
    "w = v1 + v2\n",
    "w"
   ]
  },
  {
   "cell_type": "code",
   "execution_count": 8,
   "id": "op0av-d053TV",
   "metadata": {
    "colab": {
     "base_uri": "https://localhost:8080/"
    },
    "id": "op0av-d053TV",
    "outputId": "b5354941-2b5d-4bcc-ab11-7042ef436227"
   },
   "outputs": [
    {
     "data": {
      "text/plain": [
       "array([[2, 3],\n",
       "       [6, 2]])"
      ]
     },
     "execution_count": 8,
     "metadata": {},
     "output_type": "execute_result"
    }
   ],
   "source": [
    "v1 * v2"
   ]
  },
  {
   "cell_type": "code",
   "execution_count": 9,
   "id": "4GLogXpx6AuP",
   "metadata": {
    "colab": {
     "base_uri": "https://localhost:8080/"
    },
    "id": "4GLogXpx6AuP",
    "outputId": "2b43f45c-e7bc-45ff-ca38-b5c4a32f5d79"
   },
   "outputs": [
    {
     "data": {
      "text/plain": [
       "array([[11,  4],\n",
       "       [10,  4]])"
      ]
     },
     "execution_count": 9,
     "metadata": {},
     "output_type": "execute_result"
    }
   ],
   "source": [
    "np.dot(v1, v2)"
   ]
  },
  {
   "cell_type": "code",
   "execution_count": 12,
   "id": "VnnRDS4YNhuN",
   "metadata": {
    "colab": {
     "base_uri": "https://localhost:8080/",
     "height": 487
    },
    "id": "VnnRDS4YNhuN",
    "outputId": "c93091ab-b709-48fa-b440-b6efe759a83b"
   },
   "outputs": [
    {
     "data": {
      "text/html": [
       "<div>\n",
       "<style scoped>\n",
       "    .dataframe tbody tr th:only-of-type {\n",
       "        vertical-align: middle;\n",
       "    }\n",
       "\n",
       "    .dataframe tbody tr th {\n",
       "        vertical-align: top;\n",
       "    }\n",
       "\n",
       "    .dataframe thead th {\n",
       "        text-align: right;\n",
       "    }\n",
       "</style>\n",
       "<table border=\"1\" class=\"dataframe\">\n",
       "  <thead>\n",
       "    <tr style=\"text-align: right;\">\n",
       "      <th></th>\n",
       "      <th>Gender</th>\n",
       "      <th>Age</th>\n",
       "      <th>HouseTypeID</th>\n",
       "      <th>ContactAvaliabilityID</th>\n",
       "      <th>HomeCountry</th>\n",
       "      <th>AccountNo</th>\n",
       "      <th>CardExpiryDate</th>\n",
       "      <th>TransactionAmount</th>\n",
       "      <th>TransactionCountry</th>\n",
       "      <th>LargePurchase</th>\n",
       "      <th>ProductID</th>\n",
       "      <th>CIF</th>\n",
       "      <th>TransactionCurrencyCode</th>\n",
       "      <th>PotentialFraud</th>\n",
       "    </tr>\n",
       "  </thead>\n",
       "  <tbody>\n",
       "    <tr>\n",
       "      <th>0</th>\n",
       "      <td>0</td>\n",
       "      <td>56</td>\n",
       "      <td>1</td>\n",
       "      <td>0</td>\n",
       "      <td>1</td>\n",
       "      <td>1109976</td>\n",
       "      <td>1811</td>\n",
       "      <td>0.0062</td>\n",
       "      <td>1</td>\n",
       "      <td>0</td>\n",
       "      <td>3</td>\n",
       "      <td>11020290</td>\n",
       "      <td>1</td>\n",
       "      <td>0</td>\n",
       "    </tr>\n",
       "    <tr>\n",
       "      <th>1</th>\n",
       "      <td>0</td>\n",
       "      <td>56</td>\n",
       "      <td>1</td>\n",
       "      <td>0</td>\n",
       "      <td>1</td>\n",
       "      <td>1109976</td>\n",
       "      <td>1811</td>\n",
       "      <td>0.0062</td>\n",
       "      <td>1</td>\n",
       "      <td>0</td>\n",
       "      <td>3</td>\n",
       "      <td>11020290</td>\n",
       "      <td>1</td>\n",
       "      <td>0</td>\n",
       "    </tr>\n",
       "    <tr>\n",
       "      <th>2</th>\n",
       "      <td>0</td>\n",
       "      <td>56</td>\n",
       "      <td>1</td>\n",
       "      <td>0</td>\n",
       "      <td>1</td>\n",
       "      <td>1109976</td>\n",
       "      <td>1811</td>\n",
       "      <td>0.0062</td>\n",
       "      <td>1</td>\n",
       "      <td>0</td>\n",
       "      <td>3</td>\n",
       "      <td>11020290</td>\n",
       "      <td>1</td>\n",
       "      <td>0</td>\n",
       "    </tr>\n",
       "    <tr>\n",
       "      <th>3</th>\n",
       "      <td>0</td>\n",
       "      <td>56</td>\n",
       "      <td>1</td>\n",
       "      <td>0</td>\n",
       "      <td>1</td>\n",
       "      <td>1109976</td>\n",
       "      <td>1811</td>\n",
       "      <td>0.0062</td>\n",
       "      <td>1</td>\n",
       "      <td>0</td>\n",
       "      <td>3</td>\n",
       "      <td>11020290</td>\n",
       "      <td>1</td>\n",
       "      <td>0</td>\n",
       "    </tr>\n",
       "    <tr>\n",
       "      <th>4</th>\n",
       "      <td>0</td>\n",
       "      <td>56</td>\n",
       "      <td>1</td>\n",
       "      <td>0</td>\n",
       "      <td>1</td>\n",
       "      <td>1109976</td>\n",
       "      <td>1811</td>\n",
       "      <td>1.0354</td>\n",
       "      <td>1</td>\n",
       "      <td>0</td>\n",
       "      <td>3</td>\n",
       "      <td>11020290</td>\n",
       "      <td>1</td>\n",
       "      <td>0</td>\n",
       "    </tr>\n",
       "    <tr>\n",
       "      <th>...</th>\n",
       "      <td>...</td>\n",
       "      <td>...</td>\n",
       "      <td>...</td>\n",
       "      <td>...</td>\n",
       "      <td>...</td>\n",
       "      <td>...</td>\n",
       "      <td>...</td>\n",
       "      <td>...</td>\n",
       "      <td>...</td>\n",
       "      <td>...</td>\n",
       "      <td>...</td>\n",
       "      <td>...</td>\n",
       "      <td>...</td>\n",
       "      <td>...</td>\n",
       "    </tr>\n",
       "    <tr>\n",
       "      <th>2261</th>\n",
       "      <td>0</td>\n",
       "      <td>44</td>\n",
       "      <td>1</td>\n",
       "      <td>2</td>\n",
       "      <td>1</td>\n",
       "      <td>7995391</td>\n",
       "      <td>2109</td>\n",
       "      <td>0.0000</td>\n",
       "      <td>1</td>\n",
       "      <td>0</td>\n",
       "      <td>3</td>\n",
       "      <td>11329257</td>\n",
       "      <td>1</td>\n",
       "      <td>0</td>\n",
       "    </tr>\n",
       "    <tr>\n",
       "      <th>2262</th>\n",
       "      <td>0</td>\n",
       "      <td>4</td>\n",
       "      <td>0</td>\n",
       "      <td>0</td>\n",
       "      <td>1</td>\n",
       "      <td>7995399</td>\n",
       "      <td>2109</td>\n",
       "      <td>12.4000</td>\n",
       "      <td>1</td>\n",
       "      <td>0</td>\n",
       "      <td>2</td>\n",
       "      <td>11324926</td>\n",
       "      <td>1</td>\n",
       "      <td>0</td>\n",
       "    </tr>\n",
       "    <tr>\n",
       "      <th>2263</th>\n",
       "      <td>0</td>\n",
       "      <td>4</td>\n",
       "      <td>0</td>\n",
       "      <td>0</td>\n",
       "      <td>1</td>\n",
       "      <td>7995399</td>\n",
       "      <td>2109</td>\n",
       "      <td>12.4000</td>\n",
       "      <td>1</td>\n",
       "      <td>0</td>\n",
       "      <td>2</td>\n",
       "      <td>11324926</td>\n",
       "      <td>1</td>\n",
       "      <td>0</td>\n",
       "    </tr>\n",
       "    <tr>\n",
       "      <th>2264</th>\n",
       "      <td>0</td>\n",
       "      <td>4</td>\n",
       "      <td>0</td>\n",
       "      <td>0</td>\n",
       "      <td>1</td>\n",
       "      <td>7995399</td>\n",
       "      <td>2109</td>\n",
       "      <td>12.4000</td>\n",
       "      <td>1</td>\n",
       "      <td>0</td>\n",
       "      <td>2</td>\n",
       "      <td>11324926</td>\n",
       "      <td>1</td>\n",
       "      <td>0</td>\n",
       "    </tr>\n",
       "    <tr>\n",
       "      <th>2265</th>\n",
       "      <td>0</td>\n",
       "      <td>4</td>\n",
       "      <td>0</td>\n",
       "      <td>0</td>\n",
       "      <td>1</td>\n",
       "      <td>7995399</td>\n",
       "      <td>2109</td>\n",
       "      <td>12.4000</td>\n",
       "      <td>1</td>\n",
       "      <td>0</td>\n",
       "      <td>2</td>\n",
       "      <td>11324926</td>\n",
       "      <td>1</td>\n",
       "      <td>0</td>\n",
       "    </tr>\n",
       "  </tbody>\n",
       "</table>\n",
       "<p>2266 rows × 14 columns</p>\n",
       "</div>"
      ],
      "text/plain": [
       "      Gender  Age  HouseTypeID  ContactAvaliabilityID  HomeCountry  AccountNo  \\\n",
       "0          0   56            1                      0            1    1109976   \n",
       "1          0   56            1                      0            1    1109976   \n",
       "2          0   56            1                      0            1    1109976   \n",
       "3          0   56            1                      0            1    1109976   \n",
       "4          0   56            1                      0            1    1109976   \n",
       "...      ...  ...          ...                    ...          ...        ...   \n",
       "2261       0   44            1                      2            1    7995391   \n",
       "2262       0    4            0                      0            1    7995399   \n",
       "2263       0    4            0                      0            1    7995399   \n",
       "2264       0    4            0                      0            1    7995399   \n",
       "2265       0    4            0                      0            1    7995399   \n",
       "\n",
       "      CardExpiryDate  TransactionAmount  TransactionCountry  LargePurchase  \\\n",
       "0               1811             0.0062                   1              0   \n",
       "1               1811             0.0062                   1              0   \n",
       "2               1811             0.0062                   1              0   \n",
       "3               1811             0.0062                   1              0   \n",
       "4               1811             1.0354                   1              0   \n",
       "...              ...                ...                 ...            ...   \n",
       "2261            2109             0.0000                   1              0   \n",
       "2262            2109            12.4000                   1              0   \n",
       "2263            2109            12.4000                   1              0   \n",
       "2264            2109            12.4000                   1              0   \n",
       "2265            2109            12.4000                   1              0   \n",
       "\n",
       "      ProductID       CIF  TransactionCurrencyCode  PotentialFraud  \n",
       "0             3  11020290                        1               0  \n",
       "1             3  11020290                        1               0  \n",
       "2             3  11020290                        1               0  \n",
       "3             3  11020290                        1               0  \n",
       "4             3  11020290                        1               0  \n",
       "...         ...       ...                      ...             ...  \n",
       "2261          3  11329257                        1               0  \n",
       "2262          2  11324926                        1               0  \n",
       "2263          2  11324926                        1               0  \n",
       "2264          2  11324926                        1               0  \n",
       "2265          2  11324926                        1               0  \n",
       "\n",
       "[2266 rows x 14 columns]"
      ]
     },
     "execution_count": 12,
     "metadata": {},
     "output_type": "execute_result"
    }
   ],
   "source": [
    "# Load the csv file\n",
    "\n",
    "dataframe  = pd.read_csv('creditcarddata.csv')\n",
    "dataframe"
   ]
  },
  {
   "cell_type": "code",
   "execution_count": null,
   "id": "aa0dca6f",
   "metadata": {
    "id": "aa0dca6f"
   },
   "outputs": [],
   "source": []
  },
  {
   "cell_type": "markdown",
   "id": "063a8acc",
   "metadata": {
    "id": "063a8acc"
   },
   "source": [
    "### Perform Exploratory Data Analysis"
   ]
  },
  {
   "cell_type": "code",
   "execution_count": 14,
   "id": "23e4756b",
   "metadata": {
    "colab": {
     "base_uri": "https://localhost:8080/"
    },
    "id": "23e4756b",
    "outputId": "9dd00c5b-b115-4aa5-8cd6-a76f49af7e68"
   },
   "outputs": [
    {
     "name": "stdout",
     "output_type": "stream",
     "text": [
      "<class 'pandas.core.frame.DataFrame'>\n",
      "RangeIndex: 2266 entries, 0 to 2265\n",
      "Data columns (total 14 columns):\n",
      " #   Column                   Non-Null Count  Dtype  \n",
      "---  ------                   --------------  -----  \n",
      " 0   Gender                   2266 non-null   int64  \n",
      " 1   Age                      2266 non-null   int64  \n",
      " 2   HouseTypeID              2266 non-null   int64  \n",
      " 3   ContactAvaliabilityID    2266 non-null   int64  \n",
      " 4   HomeCountry              2266 non-null   int64  \n",
      " 5   AccountNo                2266 non-null   int64  \n",
      " 6   CardExpiryDate           2266 non-null   int64  \n",
      " 7   TransactionAmount        2266 non-null   float64\n",
      " 8   TransactionCountry       2266 non-null   int64  \n",
      " 9   LargePurchase            2266 non-null   int64  \n",
      " 10  ProductID                2266 non-null   int64  \n",
      " 11  CIF                      2266 non-null   int64  \n",
      " 12  TransactionCurrencyCode  2266 non-null   int64  \n",
      " 13  PotentialFraud           2266 non-null   int64  \n",
      "dtypes: float64(1), int64(13)\n",
      "memory usage: 248.0 KB\n"
     ]
    }
   ],
   "source": [
    "dataframe.info()"
   ]
  },
  {
   "cell_type": "code",
   "execution_count": 15,
   "id": "3a684d95",
   "metadata": {
    "colab": {
     "base_uri": "https://localhost:8080/"
    },
    "id": "3a684d95",
    "outputId": "bad24e0c-32aa-43d2-d05b-502e2cc1782e"
   },
   "outputs": [
    {
     "data": {
      "text/plain": [
       "False"
      ]
     },
     "execution_count": 15,
     "metadata": {},
     "output_type": "execute_result"
    }
   ],
   "source": [
    "# Check for null values\n",
    "\n",
    "dataframe.isnull().values.any()"
   ]
  },
  {
   "cell_type": "code",
   "execution_count": null,
   "id": "OJhDjNH1IAFD",
   "metadata": {
    "id": "OJhDjNH1IAFD"
   },
   "outputs": [],
   "source": []
  },
  {
   "cell_type": "code",
   "execution_count": 16,
   "id": "-JsK680T_-Gp",
   "metadata": {
    "colab": {
     "base_uri": "https://localhost:8080/"
    },
    "id": "-JsK680T_-Gp",
    "outputId": "dd7466de-c44c-445c-f385-fddd4b062fc5"
   },
   "outputs": [
    {
     "data": {
      "text/plain": [
       "2266"
      ]
     },
     "execution_count": 16,
     "metadata": {},
     "output_type": "execute_result"
    }
   ],
   "source": [
    "len(dataframe[\"Age\"])"
   ]
  },
  {
   "cell_type": "code",
   "execution_count": 17,
   "id": "109a3031",
   "metadata": {
    "colab": {
     "base_uri": "https://localhost:8080/"
    },
    "id": "109a3031",
    "outputId": "d7b218e2-f541-4a99-d5a9-c4c0dca01142"
   },
   "outputs": [
    {
     "data": {
      "text/plain": [
       "count    2266.000000\n",
       "mean       32.703883\n",
       "std        18.020767\n",
       "min         2.000000\n",
       "25%        17.000000\n",
       "50%        33.000000\n",
       "75%        50.000000\n",
       "max        63.000000\n",
       "Name: Age, dtype: float64"
      ]
     },
     "execution_count": 17,
     "metadata": {},
     "output_type": "execute_result"
    }
   ],
   "source": [
    "dataframe[\"Age\"].describe()"
   ]
  },
  {
   "cell_type": "code",
   "execution_count": 18,
   "id": "pOnBroYMAtr7",
   "metadata": {
    "colab": {
     "base_uri": "https://localhost:8080/",
     "height": 487
    },
    "id": "pOnBroYMAtr7",
    "outputId": "f4b1c5cc-fac0-42aa-dc80-ff11d80e2215"
   },
   "outputs": [
    {
     "data": {
      "text/html": [
       "<div>\n",
       "<style scoped>\n",
       "    .dataframe tbody tr th:only-of-type {\n",
       "        vertical-align: middle;\n",
       "    }\n",
       "\n",
       "    .dataframe tbody tr th {\n",
       "        vertical-align: top;\n",
       "    }\n",
       "\n",
       "    .dataframe thead th {\n",
       "        text-align: right;\n",
       "    }\n",
       "</style>\n",
       "<table border=\"1\" class=\"dataframe\">\n",
       "  <thead>\n",
       "    <tr style=\"text-align: right;\">\n",
       "      <th></th>\n",
       "      <th>Gender</th>\n",
       "      <th>Age</th>\n",
       "      <th>HouseTypeID</th>\n",
       "      <th>ContactAvaliabilityID</th>\n",
       "      <th>HomeCountry</th>\n",
       "      <th>AccountNo</th>\n",
       "      <th>CardExpiryDate</th>\n",
       "      <th>TransactionAmount</th>\n",
       "      <th>TransactionCountry</th>\n",
       "      <th>LargePurchase</th>\n",
       "      <th>ProductID</th>\n",
       "      <th>CIF</th>\n",
       "      <th>TransactionCurrencyCode</th>\n",
       "      <th>PotentialFraud</th>\n",
       "    </tr>\n",
       "  </thead>\n",
       "  <tbody>\n",
       "    <tr>\n",
       "      <th>0</th>\n",
       "      <td>0</td>\n",
       "      <td>56</td>\n",
       "      <td>1</td>\n",
       "      <td>0</td>\n",
       "      <td>1</td>\n",
       "      <td>1109976</td>\n",
       "      <td>1811</td>\n",
       "      <td>0.0062</td>\n",
       "      <td>1</td>\n",
       "      <td>0</td>\n",
       "      <td>3</td>\n",
       "      <td>11020290</td>\n",
       "      <td>1</td>\n",
       "      <td>0</td>\n",
       "    </tr>\n",
       "    <tr>\n",
       "      <th>1</th>\n",
       "      <td>0</td>\n",
       "      <td>56</td>\n",
       "      <td>1</td>\n",
       "      <td>0</td>\n",
       "      <td>1</td>\n",
       "      <td>1109976</td>\n",
       "      <td>1811</td>\n",
       "      <td>0.0062</td>\n",
       "      <td>1</td>\n",
       "      <td>0</td>\n",
       "      <td>3</td>\n",
       "      <td>11020290</td>\n",
       "      <td>1</td>\n",
       "      <td>0</td>\n",
       "    </tr>\n",
       "    <tr>\n",
       "      <th>2</th>\n",
       "      <td>0</td>\n",
       "      <td>56</td>\n",
       "      <td>1</td>\n",
       "      <td>0</td>\n",
       "      <td>1</td>\n",
       "      <td>1109976</td>\n",
       "      <td>1811</td>\n",
       "      <td>0.0062</td>\n",
       "      <td>1</td>\n",
       "      <td>0</td>\n",
       "      <td>3</td>\n",
       "      <td>11020290</td>\n",
       "      <td>1</td>\n",
       "      <td>0</td>\n",
       "    </tr>\n",
       "    <tr>\n",
       "      <th>3</th>\n",
       "      <td>0</td>\n",
       "      <td>56</td>\n",
       "      <td>1</td>\n",
       "      <td>0</td>\n",
       "      <td>1</td>\n",
       "      <td>1109976</td>\n",
       "      <td>1811</td>\n",
       "      <td>0.0062</td>\n",
       "      <td>1</td>\n",
       "      <td>0</td>\n",
       "      <td>3</td>\n",
       "      <td>11020290</td>\n",
       "      <td>1</td>\n",
       "      <td>0</td>\n",
       "    </tr>\n",
       "    <tr>\n",
       "      <th>4</th>\n",
       "      <td>0</td>\n",
       "      <td>56</td>\n",
       "      <td>1</td>\n",
       "      <td>0</td>\n",
       "      <td>1</td>\n",
       "      <td>1109976</td>\n",
       "      <td>1811</td>\n",
       "      <td>1.0354</td>\n",
       "      <td>1</td>\n",
       "      <td>0</td>\n",
       "      <td>3</td>\n",
       "      <td>11020290</td>\n",
       "      <td>1</td>\n",
       "      <td>0</td>\n",
       "    </tr>\n",
       "    <tr>\n",
       "      <th>...</th>\n",
       "      <td>...</td>\n",
       "      <td>...</td>\n",
       "      <td>...</td>\n",
       "      <td>...</td>\n",
       "      <td>...</td>\n",
       "      <td>...</td>\n",
       "      <td>...</td>\n",
       "      <td>...</td>\n",
       "      <td>...</td>\n",
       "      <td>...</td>\n",
       "      <td>...</td>\n",
       "      <td>...</td>\n",
       "      <td>...</td>\n",
       "      <td>...</td>\n",
       "    </tr>\n",
       "    <tr>\n",
       "      <th>2261</th>\n",
       "      <td>0</td>\n",
       "      <td>44</td>\n",
       "      <td>1</td>\n",
       "      <td>2</td>\n",
       "      <td>1</td>\n",
       "      <td>7995391</td>\n",
       "      <td>2109</td>\n",
       "      <td>0.0000</td>\n",
       "      <td>1</td>\n",
       "      <td>0</td>\n",
       "      <td>3</td>\n",
       "      <td>11329257</td>\n",
       "      <td>1</td>\n",
       "      <td>0</td>\n",
       "    </tr>\n",
       "    <tr>\n",
       "      <th>2262</th>\n",
       "      <td>0</td>\n",
       "      <td>4</td>\n",
       "      <td>0</td>\n",
       "      <td>0</td>\n",
       "      <td>1</td>\n",
       "      <td>7995399</td>\n",
       "      <td>2109</td>\n",
       "      <td>12.4000</td>\n",
       "      <td>1</td>\n",
       "      <td>0</td>\n",
       "      <td>2</td>\n",
       "      <td>11324926</td>\n",
       "      <td>1</td>\n",
       "      <td>0</td>\n",
       "    </tr>\n",
       "    <tr>\n",
       "      <th>2263</th>\n",
       "      <td>0</td>\n",
       "      <td>4</td>\n",
       "      <td>0</td>\n",
       "      <td>0</td>\n",
       "      <td>1</td>\n",
       "      <td>7995399</td>\n",
       "      <td>2109</td>\n",
       "      <td>12.4000</td>\n",
       "      <td>1</td>\n",
       "      <td>0</td>\n",
       "      <td>2</td>\n",
       "      <td>11324926</td>\n",
       "      <td>1</td>\n",
       "      <td>0</td>\n",
       "    </tr>\n",
       "    <tr>\n",
       "      <th>2264</th>\n",
       "      <td>0</td>\n",
       "      <td>4</td>\n",
       "      <td>0</td>\n",
       "      <td>0</td>\n",
       "      <td>1</td>\n",
       "      <td>7995399</td>\n",
       "      <td>2109</td>\n",
       "      <td>12.4000</td>\n",
       "      <td>1</td>\n",
       "      <td>0</td>\n",
       "      <td>2</td>\n",
       "      <td>11324926</td>\n",
       "      <td>1</td>\n",
       "      <td>0</td>\n",
       "    </tr>\n",
       "    <tr>\n",
       "      <th>2265</th>\n",
       "      <td>0</td>\n",
       "      <td>4</td>\n",
       "      <td>0</td>\n",
       "      <td>0</td>\n",
       "      <td>1</td>\n",
       "      <td>7995399</td>\n",
       "      <td>2109</td>\n",
       "      <td>12.4000</td>\n",
       "      <td>1</td>\n",
       "      <td>0</td>\n",
       "      <td>2</td>\n",
       "      <td>11324926</td>\n",
       "      <td>1</td>\n",
       "      <td>0</td>\n",
       "    </tr>\n",
       "  </tbody>\n",
       "</table>\n",
       "<p>2013 rows × 14 columns</p>\n",
       "</div>"
      ],
      "text/plain": [
       "      Gender  Age  HouseTypeID  ContactAvaliabilityID  HomeCountry  AccountNo  \\\n",
       "0          0   56            1                      0            1    1109976   \n",
       "1          0   56            1                      0            1    1109976   \n",
       "2          0   56            1                      0            1    1109976   \n",
       "3          0   56            1                      0            1    1109976   \n",
       "4          0   56            1                      0            1    1109976   \n",
       "...      ...  ...          ...                    ...          ...        ...   \n",
       "2261       0   44            1                      2            1    7995391   \n",
       "2262       0    4            0                      0            1    7995399   \n",
       "2263       0    4            0                      0            1    7995399   \n",
       "2264       0    4            0                      0            1    7995399   \n",
       "2265       0    4            0                      0            1    7995399   \n",
       "\n",
       "      CardExpiryDate  TransactionAmount  TransactionCountry  LargePurchase  \\\n",
       "0               1811             0.0062                   1              0   \n",
       "1               1811             0.0062                   1              0   \n",
       "2               1811             0.0062                   1              0   \n",
       "3               1811             0.0062                   1              0   \n",
       "4               1811             1.0354                   1              0   \n",
       "...              ...                ...                 ...            ...   \n",
       "2261            2109             0.0000                   1              0   \n",
       "2262            2109            12.4000                   1              0   \n",
       "2263            2109            12.4000                   1              0   \n",
       "2264            2109            12.4000                   1              0   \n",
       "2265            2109            12.4000                   1              0   \n",
       "\n",
       "      ProductID       CIF  TransactionCurrencyCode  PotentialFraud  \n",
       "0             3  11020290                        1               0  \n",
       "1             3  11020290                        1               0  \n",
       "2             3  11020290                        1               0  \n",
       "3             3  11020290                        1               0  \n",
       "4             3  11020290                        1               0  \n",
       "...         ...       ...                      ...             ...  \n",
       "2261          3  11329257                        1               0  \n",
       "2262          2  11324926                        1               0  \n",
       "2263          2  11324926                        1               0  \n",
       "2264          2  11324926                        1               0  \n",
       "2265          2  11324926                        1               0  \n",
       "\n",
       "[2013 rows x 14 columns]"
      ]
     },
     "execution_count": 18,
     "metadata": {},
     "output_type": "execute_result"
    }
   ],
   "source": [
    "dataframe[dataframe.PotentialFraud == 0]"
   ]
  },
  {
   "cell_type": "code",
   "execution_count": 19,
   "id": "009b1c38",
   "metadata": {
    "colab": {
     "base_uri": "https://localhost:8080/"
    },
    "id": "009b1c38",
    "outputId": "f82a21af-8d6a-48e6-ef36-881e939af7e9"
   },
   "outputs": [
    {
     "name": "stdout",
     "output_type": "stream",
     "text": [
      "Number of Genuine transactions:  2013\n",
      "Number of Fraud transactions:  253\n",
      "Percentage of Fraud transactions: 11.1650\n"
     ]
    }
   ],
   "source": [
    "non_fraud = len(dataframe[dataframe.PotentialFraud == 0])\n",
    "fraud = len(dataframe[dataframe.PotentialFraud == 1])\n",
    "fraud_percent = (fraud / (fraud + non_fraud)) * 100\n",
    "\n",
    "print(\"Number of Genuine transactions: \", non_fraud)\n",
    "print(\"Number of Fraud transactions: \", fraud)\n",
    "print(\"Percentage of Fraud transactions: {:.4f}\".format(fraud_percent))"
   ]
  },
  {
   "cell_type": "code",
   "execution_count": 20,
   "id": "95fd441a",
   "metadata": {
    "colab": {
     "base_uri": "https://localhost:8080/",
     "height": 295
    },
    "id": "95fd441a",
    "outputId": "f8c94424-ebc0-4b96-93cc-cbefce1e13fe"
   },
   "outputs": [
    {
     "data": {
      "image/png": "[encoded data removed]",
      "text/plain": [
       "<Figure size 640x480 with 1 Axes>"
      ]
     },
     "metadata": {},
     "output_type": "display_data"
    }
   ],
   "source": [
    "# Visualize the \"Labels\" column in our dataset\n",
    "labels = [\"Genuine\", \"Fraud\"]\n",
    "count_classes = dataframe.value_counts(dataframe['PotentialFraud'], sort= True)\n",
    "count_classes.plot(kind = \"bar\", rot = 0)\n",
    "plt.title(\"Visualization of Labels\")\n",
    "plt.ylabel(\"Count\")\n",
    "plt.xticks(range(2), labels)\n",
    "plt.show()"
   ]
  },
  {
   "cell_type": "code",
   "execution_count": 21,
   "id": "c_olmum01-vS",
   "metadata": {
    "colab": {
     "base_uri": "https://localhost:8080/"
    },
    "id": "c_olmum01-vS",
    "outputId": "68d5acee-9f8d-4c13-baa1-77da31ccd00e"
   },
   "outputs": [
    {
     "data": {
      "text/plain": [
       "Index(['Gender', 'Age', 'HouseTypeID', 'ContactAvaliabilityID', 'HomeCountry',\n",
       "       'AccountNo', 'CardExpiryDate', 'TransactionAmount',\n",
       "       'TransactionCountry', 'LargePurchase', 'ProductID', 'CIF',\n",
       "       'TransactionCurrencyCode', 'PotentialFraud'],\n",
       "      dtype='object')"
      ]
     },
     "execution_count": 21,
     "metadata": {},
     "output_type": "execute_result"
    }
   ],
   "source": [
    "dataframe.columns"
   ]
  },
  {
   "cell_type": "code",
   "execution_count": 22,
   "id": "wshY5NZIHVVG",
   "metadata": {
    "colab": {
     "base_uri": "https://localhost:8080/"
    },
    "id": "wshY5NZIHVVG",
    "outputId": "50558b89-5453-4c67-b218-8a70f69e5060"
   },
   "outputs": [
    {
     "data": {
      "text/plain": [
       "0       56\n",
       "1       56\n",
       "2       56\n",
       "3       56\n",
       "4       56\n",
       "        ..\n",
       "2261    44\n",
       "2262     4\n",
       "2263     4\n",
       "2264     4\n",
       "2265     4\n",
       "Name: Age, Length: 2266, dtype: int64"
      ]
     },
     "execution_count": 22,
     "metadata": {},
     "output_type": "execute_result"
    }
   ],
   "source": [
    "dataframe[\"Age\"]"
   ]
  },
  {
   "cell_type": "code",
   "execution_count": 23,
   "id": "6XDBjzkPI5ER",
   "metadata": {
    "colab": {
     "base_uri": "https://localhost:8080/",
     "height": 283
    },
    "id": "6XDBjzkPI5ER",
    "outputId": "533d071f-72ec-43d5-beff-6bc79017ce24"
   },
   "outputs": [
    {
     "data": {
      "text/plain": [
       "<Axes: >"
      ]
     },
     "execution_count": 23,
     "metadata": {},
     "output_type": "execute_result"
    },
    {
     "data": {
      "image/png": "[encoded data removed]",
      "text/plain": [
       "<Figure size 640x480 with 1 Axes>"
      ]
     },
     "metadata": {},
     "output_type": "display_data"
    }
   ],
   "source": [
    "dataframe.boxplot([\"TransactionAmount\"])"
   ]
  },
  {
   "cell_type": "code",
   "execution_count": 24,
   "id": "UY62iEKJMVDT",
   "metadata": {
    "id": "UY62iEKJMVDT"
   },
   "outputs": [],
   "source": [
    "scaler = StandardScaler()\n",
    "dataframe[\"NormalizTransactionAmount\"] = scaler.fit_transform(dataframe[\"TransactionAmount\"].values.reshape(-1, 1))"
   ]
  },
  {
   "cell_type": "code",
   "execution_count": 25,
   "id": "8KBmHjIsMtlN",
   "metadata": {
    "colab": {
     "base_uri": "https://localhost:8080/",
     "height": 487
    },
    "id": "8KBmHjIsMtlN",
    "outputId": "9ab91440-6762-4b4c-ff7f-df125fb2e1bd"
   },
   "outputs": [
    {
     "data": {
      "text/html": [
       "<div>\n",
       "<style scoped>\n",
       "    .dataframe tbody tr th:only-of-type {\n",
       "        vertical-align: middle;\n",
       "    }\n",
       "\n",
       "    .dataframe tbody tr th {\n",
       "        vertical-align: top;\n",
       "    }\n",
       "\n",
       "    .dataframe thead th {\n",
       "        text-align: right;\n",
       "    }\n",
       "</style>\n",
       "<table border=\"1\" class=\"dataframe\">\n",
       "  <thead>\n",
       "    <tr style=\"text-align: right;\">\n",
       "      <th></th>\n",
       "      <th>Gender</th>\n",
       "      <th>Age</th>\n",
       "      <th>HouseTypeID</th>\n",
       "      <th>ContactAvaliabilityID</th>\n",
       "      <th>HomeCountry</th>\n",
       "      <th>AccountNo</th>\n",
       "      <th>CardExpiryDate</th>\n",
       "      <th>TransactionAmount</th>\n",
       "      <th>TransactionCountry</th>\n",
       "      <th>LargePurchase</th>\n",
       "      <th>ProductID</th>\n",
       "      <th>CIF</th>\n",
       "      <th>TransactionCurrencyCode</th>\n",
       "      <th>PotentialFraud</th>\n",
       "      <th>NormalizTransactionAmount</th>\n",
       "    </tr>\n",
       "  </thead>\n",
       "  <tbody>\n",
       "    <tr>\n",
       "      <th>0</th>\n",
       "      <td>0</td>\n",
       "      <td>56</td>\n",
       "      <td>1</td>\n",
       "      <td>0</td>\n",
       "      <td>1</td>\n",
       "      <td>1109976</td>\n",
       "      <td>1811</td>\n",
       "      <td>0.0062</td>\n",
       "      <td>1</td>\n",
       "      <td>0</td>\n",
       "      <td>3</td>\n",
       "      <td>11020290</td>\n",
       "      <td>1</td>\n",
       "      <td>0</td>\n",
       "      <td>-0.496005</td>\n",
       "    </tr>\n",
       "    <tr>\n",
       "      <th>1</th>\n",
       "      <td>0</td>\n",
       "      <td>56</td>\n",
       "      <td>1</td>\n",
       "      <td>0</td>\n",
       "      <td>1</td>\n",
       "      <td>1109976</td>\n",
       "      <td>1811</td>\n",
       "      <td>0.0062</td>\n",
       "      <td>1</td>\n",
       "      <td>0</td>\n",
       "      <td>3</td>\n",
       "      <td>11020290</td>\n",
       "      <td>1</td>\n",
       "      <td>0</td>\n",
       "      <td>-0.496005</td>\n",
       "    </tr>\n",
       "    <tr>\n",
       "      <th>2</th>\n",
       "      <td>0</td>\n",
       "      <td>56</td>\n",
       "      <td>1</td>\n",
       "      <td>0</td>\n",
       "      <td>1</td>\n",
       "      <td>1109976</td>\n",
       "      <td>1811</td>\n",
       "      <td>0.0062</td>\n",
       "      <td>1</td>\n",
       "      <td>0</td>\n",
       "      <td>3</td>\n",
       "      <td>11020290</td>\n",
       "      <td>1</td>\n",
       "      <td>0</td>\n",
       "      <td>-0.496005</td>\n",
       "    </tr>\n",
       "    <tr>\n",
       "      <th>3</th>\n",
       "      <td>0</td>\n",
       "      <td>56</td>\n",
       "      <td>1</td>\n",
       "      <td>0</td>\n",
       "      <td>1</td>\n",
       "      <td>1109976</td>\n",
       "      <td>1811</td>\n",
       "      <td>0.0062</td>\n",
       "      <td>1</td>\n",
       "      <td>0</td>\n",
       "      <td>3</td>\n",
       "      <td>11020290</td>\n",
       "      <td>1</td>\n",
       "      <td>0</td>\n",
       "      <td>-0.496005</td>\n",
       "    </tr>\n",
       "    <tr>\n",
       "      <th>4</th>\n",
       "      <td>0</td>\n",
       "      <td>56</td>\n",
       "      <td>1</td>\n",
       "      <td>0</td>\n",
       "      <td>1</td>\n",
       "      <td>1109976</td>\n",
       "      <td>1811</td>\n",
       "      <td>1.0354</td>\n",
       "      <td>1</td>\n",
       "      <td>0</td>\n",
       "      <td>3</td>\n",
       "      <td>11020290</td>\n",
       "      <td>1</td>\n",
       "      <td>0</td>\n",
       "      <td>-0.484669</td>\n",
       "    </tr>\n",
       "    <tr>\n",
       "      <th>...</th>\n",
       "      <td>...</td>\n",
       "      <td>...</td>\n",
       "      <td>...</td>\n",
       "      <td>...</td>\n",
       "      <td>...</td>\n",
       "      <td>...</td>\n",
       "      <td>...</td>\n",
       "      <td>...</td>\n",
       "      <td>...</td>\n",
       "      <td>...</td>\n",
       "      <td>...</td>\n",
       "      <td>...</td>\n",
       "      <td>...</td>\n",
       "      <td>...</td>\n",
       "      <td>...</td>\n",
       "    </tr>\n",
       "    <tr>\n",
       "      <th>2261</th>\n",
       "      <td>0</td>\n",
       "      <td>44</td>\n",
       "      <td>1</td>\n",
       "      <td>2</td>\n",
       "      <td>1</td>\n",
       "      <td>7995391</td>\n",
       "      <td>2109</td>\n",
       "      <td>0.0000</td>\n",
       "      <td>1</td>\n",
       "      <td>0</td>\n",
       "      <td>3</td>\n",
       "      <td>11329257</td>\n",
       "      <td>1</td>\n",
       "      <td>0</td>\n",
       "      <td>-0.496073</td>\n",
       "    </tr>\n",
       "    <tr>\n",
       "      <th>2262</th>\n",
       "      <td>0</td>\n",
       "      <td>4</td>\n",
       "      <td>0</td>\n",
       "      <td>0</td>\n",
       "      <td>1</td>\n",
       "      <td>7995399</td>\n",
       "      <td>2109</td>\n",
       "      <td>12.4000</td>\n",
       "      <td>1</td>\n",
       "      <td>0</td>\n",
       "      <td>2</td>\n",
       "      <td>11324926</td>\n",
       "      <td>1</td>\n",
       "      <td>0</td>\n",
       "      <td>-0.359496</td>\n",
       "    </tr>\n",
       "    <tr>\n",
       "      <th>2263</th>\n",
       "      <td>0</td>\n",
       "      <td>4</td>\n",
       "      <td>0</td>\n",
       "      <td>0</td>\n",
       "      <td>1</td>\n",
       "      <td>7995399</td>\n",
       "      <td>2109</td>\n",
       "      <td>12.4000</td>\n",
       "      <td>1</td>\n",
       "      <td>0</td>\n",
       "      <td>2</td>\n",
       "      <td>11324926</td>\n",
       "      <td>1</td>\n",
       "      <td>0</td>\n",
       "      <td>-0.359496</td>\n",
       "    </tr>\n",
       "    <tr>\n",
       "      <th>2264</th>\n",
       "      <td>0</td>\n",
       "      <td>4</td>\n",
       "      <td>0</td>\n",
       "      <td>0</td>\n",
       "      <td>1</td>\n",
       "      <td>7995399</td>\n",
       "      <td>2109</td>\n",
       "      <td>12.4000</td>\n",
       "      <td>1</td>\n",
       "      <td>0</td>\n",
       "      <td>2</td>\n",
       "      <td>11324926</td>\n",
       "      <td>1</td>\n",
       "      <td>0</td>\n",
       "      <td>-0.359496</td>\n",
       "    </tr>\n",
       "    <tr>\n",
       "      <th>2265</th>\n",
       "      <td>0</td>\n",
       "      <td>4</td>\n",
       "      <td>0</td>\n",
       "      <td>0</td>\n",
       "      <td>1</td>\n",
       "      <td>7995399</td>\n",
       "      <td>2109</td>\n",
       "      <td>12.4000</td>\n",
       "      <td>1</td>\n",
       "      <td>0</td>\n",
       "      <td>2</td>\n",
       "      <td>11324926</td>\n",
       "      <td>1</td>\n",
       "      <td>0</td>\n",
       "      <td>-0.359496</td>\n",
       "    </tr>\n",
       "  </tbody>\n",
       "</table>\n",
       "<p>2266 rows × 15 columns</p>\n",
       "</div>"
      ],
      "text/plain": [
       "      Gender  Age  HouseTypeID  ContactAvaliabilityID  HomeCountry  AccountNo  \\\n",
       "0          0   56            1                      0            1    1109976   \n",
       "1          0   56            1                      0            1    1109976   \n",
       "2          0   56            1                      0            1    1109976   \n",
       "3          0   56            1                      0            1    1109976   \n",
       "4          0   56            1                      0            1    1109976   \n",
       "...      ...  ...          ...                    ...          ...        ...   \n",
       "2261       0   44            1                      2            1    7995391   \n",
       "2262       0    4            0                      0            1    7995399   \n",
       "2263       0    4            0                      0            1    7995399   \n",
       "2264       0    4            0                      0            1    7995399   \n",
       "2265       0    4            0                      0            1    7995399   \n",
       "\n",
       "      CardExpiryDate  TransactionAmount  TransactionCountry  LargePurchase  \\\n",
       "0               1811             0.0062                   1              0   \n",
       "1               1811             0.0062                   1              0   \n",
       "2               1811             0.0062                   1              0   \n",
       "3               1811             0.0062                   1              0   \n",
       "4               1811             1.0354                   1              0   \n",
       "...              ...                ...                 ...            ...   \n",
       "2261            2109             0.0000                   1              0   \n",
       "2262            2109            12.4000                   1              0   \n",
       "2263            2109            12.4000                   1              0   \n",
       "2264            2109            12.4000                   1              0   \n",
       "2265            2109            12.4000                   1              0   \n",
       "\n",
       "      ProductID       CIF  TransactionCurrencyCode  PotentialFraud  \\\n",
       "0             3  11020290                        1               0   \n",
       "1             3  11020290                        1               0   \n",
       "2             3  11020290                        1               0   \n",
       "3             3  11020290                        1               0   \n",
       "4             3  11020290                        1               0   \n",
       "...         ...       ...                      ...             ...   \n",
       "2261          3  11329257                        1               0   \n",
       "2262          2  11324926                        1               0   \n",
       "2263          2  11324926                        1               0   \n",
       "2264          2  11324926                        1               0   \n",
       "2265          2  11324926                        1               0   \n",
       "\n",
       "      NormalizTransactionAmount  \n",
       "0                     -0.496005  \n",
       "1                     -0.496005  \n",
       "2                     -0.496005  \n",
       "3                     -0.496005  \n",
       "4                     -0.484669  \n",
       "...                         ...  \n",
       "2261                  -0.496073  \n",
       "2262                  -0.359496  \n",
       "2263                  -0.359496  \n",
       "2264                  -0.359496  \n",
       "2265                  -0.359496  \n",
       "\n",
       "[2266 rows x 15 columns]"
      ]
     },
     "execution_count": 25,
     "metadata": {},
     "output_type": "execute_result"
    }
   ],
   "source": [
    "dataframe"
   ]
  },
  {
   "cell_type": "code",
   "execution_count": 26,
   "id": "8VJk5o6sM7jz",
   "metadata": {
    "colab": {
     "base_uri": "https://localhost:8080/",
     "height": 283
    },
    "id": "8VJk5o6sM7jz",
    "outputId": "8be39d66-fcbd-4b26-b2a1-3fa97a243b32"
   },
   "outputs": [
    {
     "data": {
      "text/plain": [
       "<Axes: >"
      ]
     },
     "execution_count": 26,
     "metadata": {},
     "output_type": "execute_result"
    },
    {
     "data": {
      "image/png": "[encoded data removed]",
      "text/plain": [
       "<Figure size 640x480 with 1 Axes>"
      ]
     },
     "metadata": {},
     "output_type": "display_data"
    }
   ],
   "source": [
    "dataframe.boxplot(\"NormalizTransactionAmount\")"
   ]
  },
  {
   "cell_type": "code",
   "execution_count": 29,
   "id": "8Mza9G8NOBsi",
   "metadata": {
    "colab": {
     "base_uri": "https://localhost:8080/",
     "height": 317
    },
    "id": "8Mza9G8NOBsi",
    "outputId": "d10564db-ddb0-40d8-c39f-b39d91a7016d"
   },
   "outputs": [
    {
     "data": {
      "text/plain": [
       "array([[<Axes: title={'center': 'NormalizTransactionAmount'}>]],\n",
       "      dtype=object)"
      ]
     },
     "execution_count": 29,
     "metadata": {},
     "output_type": "execute_result"
    },
    {
     "data": {
      "image/png": "[encoded data removed]",
      "text/plain": [
       "<Figure size 640x480 with 1 Axes>"
      ]
     },
     "metadata": {},
     "output_type": "display_data"
    }
   ],
   "source": [
    "dataframe.hist(\"NormalizTransactionAmount\")"
   ]
  },
  {
   "cell_type": "code",
   "execution_count": 34,
   "id": "FS2DTgjGNtVf",
   "metadata": {
    "colab": {
     "base_uri": "https://localhost:8080/"
    },
    "id": "FS2DTgjGNtVf",
    "outputId": "bb1f48e0-9c5d-4c7f-b0da-54fe8709a041"
   },
   "outputs": [
    {
     "data": {
      "text/html": [
       "<div>\n",
       "<style scoped>\n",
       "    .dataframe tbody tr th:only-of-type {\n",
       "        vertical-align: middle;\n",
       "    }\n",
       "\n",
       "    .dataframe tbody tr th {\n",
       "        vertical-align: top;\n",
       "    }\n",
       "\n",
       "    .dataframe thead th {\n",
       "        text-align: right;\n",
       "    }\n",
       "</style>\n",
       "<table border=\"1\" class=\"dataframe\">\n",
       "  <thead>\n",
       "    <tr style=\"text-align: right;\">\n",
       "      <th></th>\n",
       "      <th>Gender</th>\n",
       "      <th>Age</th>\n",
       "      <th>HouseTypeID</th>\n",
       "      <th>ContactAvaliabilityID</th>\n",
       "      <th>HomeCountry</th>\n",
       "      <th>AccountNo</th>\n",
       "      <th>CardExpiryDate</th>\n",
       "      <th>TransactionAmount</th>\n",
       "      <th>TransactionCountry</th>\n",
       "      <th>LargePurchase</th>\n",
       "      <th>ProductID</th>\n",
       "      <th>CIF</th>\n",
       "      <th>TransactionCurrencyCode</th>\n",
       "      <th>PotentialFraud</th>\n",
       "    </tr>\n",
       "  </thead>\n",
       "  <tbody>\n",
       "    <tr>\n",
       "      <th>0</th>\n",
       "      <td>0</td>\n",
       "      <td>56</td>\n",
       "      <td>1</td>\n",
       "      <td>0</td>\n",
       "      <td>1</td>\n",
       "      <td>1109976</td>\n",
       "      <td>1811</td>\n",
       "      <td>0.0062</td>\n",
       "      <td>1</td>\n",
       "      <td>0</td>\n",
       "      <td>3</td>\n",
       "      <td>11020290</td>\n",
       "      <td>1</td>\n",
       "      <td>0</td>\n",
       "    </tr>\n",
       "    <tr>\n",
       "      <th>1</th>\n",
       "      <td>0</td>\n",
       "      <td>56</td>\n",
       "      <td>1</td>\n",
       "      <td>0</td>\n",
       "      <td>1</td>\n",
       "      <td>1109976</td>\n",
       "      <td>1811</td>\n",
       "      <td>0.0062</td>\n",
       "      <td>1</td>\n",
       "      <td>0</td>\n",
       "      <td>3</td>\n",
       "      <td>11020290</td>\n",
       "      <td>1</td>\n",
       "      <td>0</td>\n",
       "    </tr>\n",
       "    <tr>\n",
       "      <th>2</th>\n",
       "      <td>0</td>\n",
       "      <td>56</td>\n",
       "      <td>1</td>\n",
       "      <td>0</td>\n",
       "      <td>1</td>\n",
       "      <td>1109976</td>\n",
       "      <td>1811</td>\n",
       "      <td>0.0062</td>\n",
       "      <td>1</td>\n",
       "      <td>0</td>\n",
       "      <td>3</td>\n",
       "      <td>11020290</td>\n",
       "      <td>1</td>\n",
       "      <td>0</td>\n",
       "    </tr>\n",
       "    <tr>\n",
       "      <th>3</th>\n",
       "      <td>0</td>\n",
       "      <td>56</td>\n",
       "      <td>1</td>\n",
       "      <td>0</td>\n",
       "      <td>1</td>\n",
       "      <td>1109976</td>\n",
       "      <td>1811</td>\n",
       "      <td>0.0062</td>\n",
       "      <td>1</td>\n",
       "      <td>0</td>\n",
       "      <td>3</td>\n",
       "      <td>11020290</td>\n",
       "      <td>1</td>\n",
       "      <td>0</td>\n",
       "    </tr>\n",
       "    <tr>\n",
       "      <th>4</th>\n",
       "      <td>0</td>\n",
       "      <td>56</td>\n",
       "      <td>1</td>\n",
       "      <td>0</td>\n",
       "      <td>1</td>\n",
       "      <td>1109976</td>\n",
       "      <td>1811</td>\n",
       "      <td>1.0354</td>\n",
       "      <td>1</td>\n",
       "      <td>0</td>\n",
       "      <td>3</td>\n",
       "      <td>11020290</td>\n",
       "      <td>1</td>\n",
       "      <td>0</td>\n",
       "    </tr>\n",
       "  </tbody>\n",
       "</table>\n",
       "</div>"
      ],
      "text/plain": [
       "   Gender  Age  HouseTypeID  ContactAvaliabilityID  HomeCountry  AccountNo  \\\n",
       "0       0   56            1                      0            1    1109976   \n",
       "1       0   56            1                      0            1    1109976   \n",
       "2       0   56            1                      0            1    1109976   \n",
       "3       0   56            1                      0            1    1109976   \n",
       "4       0   56            1                      0            1    1109976   \n",
       "\n",
       "   CardExpiryDate  TransactionAmount  TransactionCountry  LargePurchase  \\\n",
       "0            1811             0.0062                   1              0   \n",
       "1            1811             0.0062                   1              0   \n",
       "2            1811             0.0062                   1              0   \n",
       "3            1811             0.0062                   1              0   \n",
       "4            1811             1.0354                   1              0   \n",
       "\n",
       "   ProductID       CIF  TransactionCurrencyCode  PotentialFraud  \n",
       "0          3  11020290                        1               0  \n",
       "1          3  11020290                        1               0  \n",
       "2          3  11020290                        1               0  \n",
       "3          3  11020290                        1               0  \n",
       "4          3  11020290                        1               0  "
      ]
     },
     "execution_count": 34,
     "metadata": {},
     "output_type": "execute_result"
    }
   ],
   "source": [
    "#dataframe[\"NormalizTransactionAmount\"]\n",
    "\n",
    "dataframe.head()"
   ]
  },
  {
   "cell_type": "code",
   "execution_count": 33,
   "id": "mlVd04SoHNCQ",
   "metadata": {
    "id": "mlVd04SoHNCQ"
   },
   "outputs": [
    {
     "ename": "KeyError",
     "evalue": "\"['NormalizTransactionAmount'] not found in axis\"",
     "output_type": "error",
     "traceback": [
      "\u001b[1;31m---------------------------------------------------------------------------\u001b[0m",
      "\u001b[1;31mKeyError\u001b[0m                                  Traceback (most recent call last)",
      "Cell \u001b[1;32mIn[33], line 1\u001b[0m\n\u001b[1;32m----> 1\u001b[0m dataframe\u001b[38;5;241m.\u001b[39mdrop(\u001b[38;5;124m\"\u001b[39m\u001b[38;5;124mNormalizTransactionAmount\u001b[39m\u001b[38;5;124m\"\u001b[39m, inplace\u001b[38;5;241m=\u001b[39m \u001b[38;5;28;01mTrue\u001b[39;00m, axis\u001b[38;5;241m=\u001b[39m \u001b[38;5;241m1\u001b[39m)\n",
      "File \u001b[1;32m~\\anaconda3\\Lib\\site-packages\\pandas\\core\\frame.py:5344\u001b[0m, in \u001b[0;36mDataFrame.drop\u001b[1;34m(self, labels, axis, index, columns, level, inplace, errors)\u001b[0m\n\u001b[0;32m   5196\u001b[0m \u001b[38;5;28;01mdef\u001b[39;00m \u001b[38;5;21mdrop\u001b[39m(\n\u001b[0;32m   5197\u001b[0m     \u001b[38;5;28mself\u001b[39m,\n\u001b[0;32m   5198\u001b[0m     labels: IndexLabel \u001b[38;5;241m|\u001b[39m \u001b[38;5;28;01mNone\u001b[39;00m \u001b[38;5;241m=\u001b[39m \u001b[38;5;28;01mNone\u001b[39;00m,\n\u001b[1;32m   (...)\u001b[0m\n\u001b[0;32m   5205\u001b[0m     errors: IgnoreRaise \u001b[38;5;241m=\u001b[39m \u001b[38;5;124m\"\u001b[39m\u001b[38;5;124mraise\u001b[39m\u001b[38;5;124m\"\u001b[39m,\n\u001b[0;32m   5206\u001b[0m ) \u001b[38;5;241m-\u001b[39m\u001b[38;5;241m>\u001b[39m DataFrame \u001b[38;5;241m|\u001b[39m \u001b[38;5;28;01mNone\u001b[39;00m:\n\u001b[0;32m   5207\u001b[0m \u001b[38;5;250m    \u001b[39m\u001b[38;5;124;03m\"\"\"\u001b[39;00m\n\u001b[0;32m   5208\u001b[0m \u001b[38;5;124;03m    Drop specified labels from rows or columns.\u001b[39;00m\n\u001b[0;32m   5209\u001b[0m \n\u001b[1;32m   (...)\u001b[0m\n\u001b[0;32m   5342\u001b[0m \u001b[38;5;124;03m            weight  1.0     0.8\u001b[39;00m\n\u001b[0;32m   5343\u001b[0m \u001b[38;5;124;03m    \"\"\"\u001b[39;00m\n\u001b[1;32m-> 5344\u001b[0m     \u001b[38;5;28;01mreturn\u001b[39;00m \u001b[38;5;28msuper\u001b[39m()\u001b[38;5;241m.\u001b[39mdrop(\n\u001b[0;32m   5345\u001b[0m         labels\u001b[38;5;241m=\u001b[39mlabels,\n\u001b[0;32m   5346\u001b[0m         axis\u001b[38;5;241m=\u001b[39maxis,\n\u001b[0;32m   5347\u001b[0m         index\u001b[38;5;241m=\u001b[39mindex,\n\u001b[0;32m   5348\u001b[0m         columns\u001b[38;5;241m=\u001b[39mcolumns,\n\u001b[0;32m   5349\u001b[0m         level\u001b[38;5;241m=\u001b[39mlevel,\n\u001b[0;32m   5350\u001b[0m         inplace\u001b[38;5;241m=\u001b[39minplace,\n\u001b[0;32m   5351\u001b[0m         errors\u001b[38;5;241m=\u001b[39merrors,\n\u001b[0;32m   5352\u001b[0m     )\n",
      "File \u001b[1;32m~\\anaconda3\\Lib\\site-packages\\pandas\\core\\generic.py:4711\u001b[0m, in \u001b[0;36mNDFrame.drop\u001b[1;34m(self, labels, axis, index, columns, level, inplace, errors)\u001b[0m\n\u001b[0;32m   4709\u001b[0m \u001b[38;5;28;01mfor\u001b[39;00m axis, labels \u001b[38;5;129;01min\u001b[39;00m axes\u001b[38;5;241m.\u001b[39mitems():\n\u001b[0;32m   4710\u001b[0m     \u001b[38;5;28;01mif\u001b[39;00m labels \u001b[38;5;129;01mis\u001b[39;00m \u001b[38;5;129;01mnot\u001b[39;00m \u001b[38;5;28;01mNone\u001b[39;00m:\n\u001b[1;32m-> 4711\u001b[0m         obj \u001b[38;5;241m=\u001b[39m obj\u001b[38;5;241m.\u001b[39m_drop_axis(labels, axis, level\u001b[38;5;241m=\u001b[39mlevel, errors\u001b[38;5;241m=\u001b[39merrors)\n\u001b[0;32m   4713\u001b[0m \u001b[38;5;28;01mif\u001b[39;00m inplace:\n\u001b[0;32m   4714\u001b[0m     \u001b[38;5;28mself\u001b[39m\u001b[38;5;241m.\u001b[39m_update_inplace(obj)\n",
      "File \u001b[1;32m~\\anaconda3\\Lib\\site-packages\\pandas\\core\\generic.py:4753\u001b[0m, in \u001b[0;36mNDFrame._drop_axis\u001b[1;34m(self, labels, axis, level, errors, only_slice)\u001b[0m\n\u001b[0;32m   4751\u001b[0m         new_axis \u001b[38;5;241m=\u001b[39m axis\u001b[38;5;241m.\u001b[39mdrop(labels, level\u001b[38;5;241m=\u001b[39mlevel, errors\u001b[38;5;241m=\u001b[39merrors)\n\u001b[0;32m   4752\u001b[0m     \u001b[38;5;28;01melse\u001b[39;00m:\n\u001b[1;32m-> 4753\u001b[0m         new_axis \u001b[38;5;241m=\u001b[39m axis\u001b[38;5;241m.\u001b[39mdrop(labels, errors\u001b[38;5;241m=\u001b[39merrors)\n\u001b[0;32m   4754\u001b[0m     indexer \u001b[38;5;241m=\u001b[39m axis\u001b[38;5;241m.\u001b[39mget_indexer(new_axis)\n\u001b[0;32m   4756\u001b[0m \u001b[38;5;66;03m# Case for non-unique axis\u001b[39;00m\n\u001b[0;32m   4757\u001b[0m \u001b[38;5;28;01melse\u001b[39;00m:\n",
      "File \u001b[1;32m~\\anaconda3\\Lib\\site-packages\\pandas\\core\\indexes\\base.py:7000\u001b[0m, in \u001b[0;36mIndex.drop\u001b[1;34m(self, labels, errors)\u001b[0m\n\u001b[0;32m   6998\u001b[0m \u001b[38;5;28;01mif\u001b[39;00m mask\u001b[38;5;241m.\u001b[39many():\n\u001b[0;32m   6999\u001b[0m     \u001b[38;5;28;01mif\u001b[39;00m errors \u001b[38;5;241m!=\u001b[39m \u001b[38;5;124m\"\u001b[39m\u001b[38;5;124mignore\u001b[39m\u001b[38;5;124m\"\u001b[39m:\n\u001b[1;32m-> 7000\u001b[0m         \u001b[38;5;28;01mraise\u001b[39;00m \u001b[38;5;167;01mKeyError\u001b[39;00m(\u001b[38;5;124mf\u001b[39m\u001b[38;5;124m\"\u001b[39m\u001b[38;5;132;01m{\u001b[39;00mlabels[mask]\u001b[38;5;241m.\u001b[39mtolist()\u001b[38;5;132;01m}\u001b[39;00m\u001b[38;5;124m not found in axis\u001b[39m\u001b[38;5;124m\"\u001b[39m)\n\u001b[0;32m   7001\u001b[0m     indexer \u001b[38;5;241m=\u001b[39m indexer[\u001b[38;5;241m~\u001b[39mmask]\n\u001b[0;32m   7002\u001b[0m \u001b[38;5;28;01mreturn\u001b[39;00m \u001b[38;5;28mself\u001b[39m\u001b[38;5;241m.\u001b[39mdelete(indexer)\n",
      "\u001b[1;31mKeyError\u001b[0m: \"['NormalizTransactionAmount'] not found in axis\""
     ]
    }
   ],
   "source": [
    "dataframe.drop(\"NormalizTransactionAmount\", inplace= True, axis= 1)"
   ]
  },
  {
   "cell_type": "code",
   "execution_count": 35,
   "id": "0c17ab9b",
   "metadata": {
    "id": "0c17ab9b"
   },
   "outputs": [],
   "source": [
    "# Perform Scaling\n",
    "scaler = StandardScaler()\n",
    "#dataframe[\"NormalizedAmount\"] = scaler.fit_transform(dataframe[\"TransactionAmount\"].values.reshape(-1, 1))\n",
    "#dataframe.drop([\"Amount\", \"Time\"], inplace= True, axis= 1)\n",
    "\n",
    "Y = dataframe[\"PotentialFraud\"]\n",
    "X = dataframe.drop([\"PotentialFraud\"], axis= 1)"
   ]
  },
  {
   "cell_type": "code",
   "execution_count": null,
   "id": "sjQ3AU6ZNsgF",
   "metadata": {
    "id": "sjQ3AU6ZNsgF"
   },
   "outputs": [],
   "source": []
  },
  {
   "cell_type": "code",
   "execution_count": null,
   "id": "6jKKHPPkOlo_",
   "metadata": {
    "colab": {
     "base_uri": "https://localhost:8080/",
     "height": 487
    },
    "id": "6jKKHPPkOlo_",
    "outputId": "8ff0acd1-6e22-4d7e-f957-77ee9a7f217f"
   },
   "outputs": [
    {
     "data": {
      "text/html": [
       "\n",
       "  <div id=\"df-9e08a6cf-5244-4eea-a461-a98c42aa1473\">\n",
       "    <div class=\"colab-df-container\">\n",
       "      <div>\n",
       "<style scoped>\n",
       "    .dataframe tbody tr th:only-of-type {\n",
       "        vertical-align: middle;\n",
       "    }\n",
       "\n",
       "    .dataframe tbody tr th {\n",
       "        vertical-align: top;\n",
       "    }\n",
       "\n",
       "    .dataframe thead th {\n",
       "        text-align: right;\n",
       "    }\n",
       "</style>\n",
       "<table border=\"1\" class=\"dataframe\">\n",
       "  <thead>\n",
       "    <tr style=\"text-align: right;\">\n",
       "      <th></th>\n",
       "      <th>Gender</th>\n",
       "      <th>Age</th>\n",
       "      <th>HouseTypeID</th>\n",
       "      <th>ContactAvaliabilityID</th>\n",
       "      <th>HomeCountry</th>\n",
       "      <th>AccountNo</th>\n",
       "      <th>CardExpiryDate</th>\n",
       "      <th>TransactionAmount</th>\n",
       "      <th>TransactionCountry</th>\n",
       "      <th>LargePurchase</th>\n",
       "      <th>ProductID</th>\n",
       "      <th>CIF</th>\n",
       "      <th>TransactionCurrencyCode</th>\n",
       "      <th>PotentialFraud</th>\n",
       "    </tr>\n",
       "  </thead>\n",
       "  <tbody>\n",
       "    <tr>\n",
       "      <th>0</th>\n",
       "      <td>0</td>\n",
       "      <td>56</td>\n",
       "      <td>1</td>\n",
       "      <td>0</td>\n",
       "      <td>1</td>\n",
       "      <td>1109976</td>\n",
       "      <td>1811</td>\n",
       "      <td>0.0062</td>\n",
       "      <td>1</td>\n",
       "      <td>0</td>\n",
       "      <td>3</td>\n",
       "      <td>11020290</td>\n",
       "      <td>1</td>\n",
       "      <td>0</td>\n",
       "    </tr>\n",
       "    <tr>\n",
       "      <th>1</th>\n",
       "      <td>0</td>\n",
       "      <td>56</td>\n",
       "      <td>1</td>\n",
       "      <td>0</td>\n",
       "      <td>1</td>\n",
       "      <td>1109976</td>\n",
       "      <td>1811</td>\n",
       "      <td>0.0062</td>\n",
       "      <td>1</td>\n",
       "      <td>0</td>\n",
       "      <td>3</td>\n",
       "      <td>11020290</td>\n",
       "      <td>1</td>\n",
       "      <td>0</td>\n",
       "    </tr>\n",
       "    <tr>\n",
       "      <th>2</th>\n",
       "      <td>0</td>\n",
       "      <td>56</td>\n",
       "      <td>1</td>\n",
       "      <td>0</td>\n",
       "      <td>1</td>\n",
       "      <td>1109976</td>\n",
       "      <td>1811</td>\n",
       "      <td>0.0062</td>\n",
       "      <td>1</td>\n",
       "      <td>0</td>\n",
       "      <td>3</td>\n",
       "      <td>11020290</td>\n",
       "      <td>1</td>\n",
       "      <td>0</td>\n",
       "    </tr>\n",
       "    <tr>\n",
       "      <th>3</th>\n",
       "      <td>0</td>\n",
       "      <td>56</td>\n",
       "      <td>1</td>\n",
       "      <td>0</td>\n",
       "      <td>1</td>\n",
       "      <td>1109976</td>\n",
       "      <td>1811</td>\n",
       "      <td>0.0062</td>\n",
       "      <td>1</td>\n",
       "      <td>0</td>\n",
       "      <td>3</td>\n",
       "      <td>11020290</td>\n",
       "      <td>1</td>\n",
       "      <td>0</td>\n",
       "    </tr>\n",
       "    <tr>\n",
       "      <th>4</th>\n",
       "      <td>0</td>\n",
       "      <td>56</td>\n",
       "      <td>1</td>\n",
       "      <td>0</td>\n",
       "      <td>1</td>\n",
       "      <td>1109976</td>\n",
       "      <td>1811</td>\n",
       "      <td>1.0354</td>\n",
       "      <td>1</td>\n",
       "      <td>0</td>\n",
       "      <td>3</td>\n",
       "      <td>11020290</td>\n",
       "      <td>1</td>\n",
       "      <td>0</td>\n",
       "    </tr>\n",
       "    <tr>\n",
       "      <th>...</th>\n",
       "      <td>...</td>\n",
       "      <td>...</td>\n",
       "      <td>...</td>\n",
       "      <td>...</td>\n",
       "      <td>...</td>\n",
       "      <td>...</td>\n",
       "      <td>...</td>\n",
       "      <td>...</td>\n",
       "      <td>...</td>\n",
       "      <td>...</td>\n",
       "      <td>...</td>\n",
       "      <td>...</td>\n",
       "      <td>...</td>\n",
       "      <td>...</td>\n",
       "    </tr>\n",
       "    <tr>\n",
       "      <th>2261</th>\n",
       "      <td>0</td>\n",
       "      <td>44</td>\n",
       "      <td>1</td>\n",
       "      <td>2</td>\n",
       "      <td>1</td>\n",
       "      <td>7995391</td>\n",
       "      <td>2109</td>\n",
       "      <td>0.0000</td>\n",
       "      <td>1</td>\n",
       "      <td>0</td>\n",
       "      <td>3</td>\n",
       "      <td>11329257</td>\n",
       "      <td>1</td>\n",
       "      <td>0</td>\n",
       "    </tr>\n",
       "    <tr>\n",
       "      <th>2262</th>\n",
       "      <td>0</td>\n",
       "      <td>4</td>\n",
       "      <td>0</td>\n",
       "      <td>0</td>\n",
       "      <td>1</td>\n",
       "      <td>7995399</td>\n",
       "      <td>2109</td>\n",
       "      <td>12.4000</td>\n",
       "      <td>1</td>\n",
       "      <td>0</td>\n",
       "      <td>2</td>\n",
       "      <td>11324926</td>\n",
       "      <td>1</td>\n",
       "      <td>0</td>\n",
       "    </tr>\n",
       "    <tr>\n",
       "      <th>2263</th>\n",
       "      <td>0</td>\n",
       "      <td>4</td>\n",
       "      <td>0</td>\n",
       "      <td>0</td>\n",
       "      <td>1</td>\n",
       "      <td>7995399</td>\n",
       "      <td>2109</td>\n",
       "      <td>12.4000</td>\n",
       "      <td>1</td>\n",
       "      <td>0</td>\n",
       "      <td>2</td>\n",
       "      <td>11324926</td>\n",
       "      <td>1</td>\n",
       "      <td>0</td>\n",
       "    </tr>\n",
       "    <tr>\n",
       "      <th>2264</th>\n",
       "      <td>0</td>\n",
       "      <td>4</td>\n",
       "      <td>0</td>\n",
       "      <td>0</td>\n",
       "      <td>1</td>\n",
       "      <td>7995399</td>\n",
       "      <td>2109</td>\n",
       "      <td>12.4000</td>\n",
       "      <td>1</td>\n",
       "      <td>0</td>\n",
       "      <td>2</td>\n",
       "      <td>11324926</td>\n",
       "      <td>1</td>\n",
       "      <td>0</td>\n",
       "    </tr>\n",
       "    <tr>\n",
       "      <th>2265</th>\n",
       "      <td>0</td>\n",
       "      <td>4</td>\n",
       "      <td>0</td>\n",
       "      <td>0</td>\n",
       "      <td>1</td>\n",
       "      <td>7995399</td>\n",
       "      <td>2109</td>\n",
       "      <td>12.4000</td>\n",
       "      <td>1</td>\n",
       "      <td>0</td>\n",
       "      <td>2</td>\n",
       "      <td>11324926</td>\n",
       "      <td>1</td>\n",
       "      <td>0</td>\n",
       "    </tr>\n",
       "  </tbody>\n",
       "</table>\n",
       "<p>2266 rows × 14 columns</p>\n",
       "</div>\n",
       "      <button class=\"colab-df-convert\" onclick=\"convertToInteractive('df-9e08a6cf-5244-4eea-a461-a98c42aa1473')\"\n",
       "              title=\"Convert this dataframe to an interactive table.\"\n",
       "              style=\"display:none;\">\n",
       "        \n",
       "  <svg xmlns=\"http://www.w3.org/2000/svg\" height=\"24px\"viewBox=\"0 0 24 24\"\n",
       "       width=\"24px\">\n",
       "    <path d=\"M0 0h24v24H0V0z\" fill=\"none\"/>\n",
       "    <path d=\"M18.56 5.44l.94 2.06.94-2.06 2.06-.94-2.06-.94-.94-2.06-.94 2.06-2.06.94zm-11 1L8.5 8.5l.94-2.06 2.06-.94-2.06-.94L8.5 2.5l-.94 2.06-2.06.94zm10 10l.94 2.06.94-2.06 2.06-.94-2.06-.94-.94-2.06-.94 2.06-2.06.94z\"/><path d=\"M17.41 7.96l-1.37-1.37c-.4-.4-.92-.59-1.43-.59-.52 0-1.04.2-1.43.59L10.3 9.45l-7.72 7.72c-.78.78-.78 2.05 0 2.83L4 21.41c.39.39.9.59 1.41.59.51 0 1.02-.2 1.41-.59l7.78-7.78 2.81-2.81c.8-.78.8-2.07 0-2.86zM5.41 20L4 18.59l7.72-7.72 1.47 1.35L5.41 20z\"/>\n",
       "  </svg>\n",
       "      </button>\n",
       "      \n",
       "  <style>\n",
       "    .colab-df-container {\n",
       "      display:flex;\n",
       "      flex-wrap:wrap;\n",
       "      gap: 12px;\n",
       "    }\n",
       "\n",
       "    .colab-df-convert {\n",
       "      background-color: #E8F0FE;\n",
       "      border: none;\n",
       "      border-radius: 50%;\n",
       "      cursor: pointer;\n",
       "      display: none;\n",
       "      fill: #1967D2;\n",
       "      height: 32px;\n",
       "      padding: 0 0 0 0;\n",
       "      width: 32px;\n",
       "    }\n",
       "\n",
       "    .colab-df-convert:hover {\n",
       "      background-color: #E2EBFA;\n",
       "      box-shadow: 0px 1px 2px rgba(60, 64, 67, 0.3), 0px 1px 3px 1px rgba(60, 64, 67, 0.15);\n",
       "      fill: #174EA6;\n",
       "    }\n",
       "\n",
       "    [theme=dark] .colab-df-convert {\n",
       "      background-color: #3B4455;\n",
       "      fill: #D2E3FC;\n",
       "    }\n",
       "\n",
       "    [theme=dark] .colab-df-convert:hover {\n",
       "      background-color: #434B5C;\n",
       "      box-shadow: 0px 1px 3px 1px rgba(0, 0, 0, 0.15);\n",
       "      filter: drop-shadow(0px 1px 2px rgba(0, 0, 0, 0.3));\n",
       "      fill: #FFFFFF;\n",
       "    }\n",
       "  </style>\n",
       "\n",
       "      <script>\n",
       "        const buttonEl =\n",
       "          document.querySelector('#df-9e08a6cf-5244-4eea-a461-a98c42aa1473 button.colab-df-convert');\n",
       "        buttonEl.style.display =\n",
       "          google.colab.kernel.accessAllowed ? 'block' : 'none';\n",
       "\n",
       "        async function convertToInteractive(key) {\n",
       "          const element = document.querySelector('#df-9e08a6cf-5244-4eea-a461-a98c42aa1473');\n",
       "          const dataTable =\n",
       "            await google.colab.kernel.invokeFunction('convertToInteractive',\n",
       "                                                     [key], {});\n",
       "          if (!dataTable) return;\n",
       "\n",
       "          const docLinkHtml = 'Like what you see? Visit the ' +\n",
       "            '<a target=\"_blank\" href=https://colab.research.google.com/notebooks/data_table.ipynb>data table notebook</a>'\n",
       "            + ' to learn more about interactive tables.';\n",
       "          element.innerHTML = '';\n",
       "          dataTable['output_type'] = 'display_data';\n",
       "          await google.colab.output.renderOutput(dataTable, element);\n",
       "          const docLink = document.createElement('div');\n",
       "          docLink.innerHTML = docLinkHtml;\n",
       "          element.appendChild(docLink);\n",
       "        }\n",
       "      </script>\n",
       "    </div>\n",
       "  </div>\n",
       "  "
      ],
      "text/plain": [
       "      Gender  Age  HouseTypeID  ContactAvaliabilityID  HomeCountry  AccountNo  \\\n",
       "0          0   56            1                      0            1    1109976   \n",
       "1          0   56            1                      0            1    1109976   \n",
       "2          0   56            1                      0            1    1109976   \n",
       "3          0   56            1                      0            1    1109976   \n",
       "4          0   56            1                      0            1    1109976   \n",
       "...      ...  ...          ...                    ...          ...        ...   \n",
       "2261       0   44            1                      2            1    7995391   \n",
       "2262       0    4            0                      0            1    7995399   \n",
       "2263       0    4            0                      0            1    7995399   \n",
       "2264       0    4            0                      0            1    7995399   \n",
       "2265       0    4            0                      0            1    7995399   \n",
       "\n",
       "      CardExpiryDate  TransactionAmount  TransactionCountry  LargePurchase  \\\n",
       "0               1811             0.0062                   1              0   \n",
       "1               1811             0.0062                   1              0   \n",
       "2               1811             0.0062                   1              0   \n",
       "3               1811             0.0062                   1              0   \n",
       "4               1811             1.0354                   1              0   \n",
       "...              ...                ...                 ...            ...   \n",
       "2261            2109             0.0000                   1              0   \n",
       "2262            2109            12.4000                   1              0   \n",
       "2263            2109            12.4000                   1              0   \n",
       "2264            2109            12.4000                   1              0   \n",
       "2265            2109            12.4000                   1              0   \n",
       "\n",
       "      ProductID       CIF  TransactionCurrencyCode  PotentialFraud  \n",
       "0             3  11020290                        1               0  \n",
       "1             3  11020290                        1               0  \n",
       "2             3  11020290                        1               0  \n",
       "3             3  11020290                        1               0  \n",
       "4             3  11020290                        1               0  \n",
       "...         ...       ...                      ...             ...  \n",
       "2261          3  11329257                        1               0  \n",
       "2262          2  11324926                        1               0  \n",
       "2263          2  11324926                        1               0  \n",
       "2264          2  11324926                        1               0  \n",
       "2265          2  11324926                        1               0  \n",
       "\n",
       "[2266 rows x 14 columns]"
      ]
     },
     "execution_count": 40,
     "metadata": {},
     "output_type": "execute_result"
    }
   ],
   "source": [
    "dataframe"
   ]
  },
  {
   "cell_type": "code",
   "execution_count": null,
   "id": "f3f75251",
   "metadata": {
    "colab": {
     "base_uri": "https://localhost:8080/"
    },
    "id": "f3f75251",
    "outputId": "15a5da65-e3a2-4f9c-881d-25e4b599b15b"
   },
   "outputs": [
    {
     "data": {
      "text/plain": [
       "0    0\n",
       "1    0\n",
       "2    0\n",
       "3    0\n",
       "4    0\n",
       "Name: PotentialFraud, dtype: int64"
      ]
     },
     "execution_count": 41,
     "metadata": {},
     "output_type": "execute_result"
    }
   ],
   "source": [
    "Y.head()"
   ]
  },
  {
   "cell_type": "code",
   "execution_count": null,
   "id": "kvXoTMETGRdP",
   "metadata": {
    "id": "kvXoTMETGRdP"
   },
   "outputs": [],
   "source": []
  },
  {
   "cell_type": "code",
   "execution_count": null,
   "id": "08d72aae",
   "metadata": {
    "colab": {
     "base_uri": "https://localhost:8080/"
    },
    "id": "08d72aae",
    "outputId": "54b6f80c-f480-4752-b817-a103fa63a19b"
   },
   "outputs": [
    {
     "name": "stdout",
     "output_type": "stream",
     "text": [
      "Shape of train_X:  (1586, 13)\n",
      "Shape of test_X:  (680, 13)\n"
     ]
    }
   ],
   "source": [
    "# Split the data\n",
    "(train_X, test_X, train_Y, test_Y) = train_test_split(X, Y, test_size= 0.3, random_state= 42)\n",
    "\n",
    "print(\"Shape of train_X: \", train_X.shape)\n",
    "print(\"Shape of test_X: \", test_X.shape)"
   ]
  },
  {
   "cell_type": "markdown",
   "id": "96deee6b",
   "metadata": {
    "id": "96deee6b"
   },
   "source": [
    "Entraînons différents modèles sur notre ensemble de données et observons quel algorithme fonctionne le mieux pour notre problème.\n",
    "\n",
    "Appliquons les algorithmes Random Forests et Decision Trees,Logistic regrression à notre ensemble de données."
   ]
  },
  {
   "cell_type": "code",
   "execution_count": null,
   "id": "BuwQM6aqqX78",
   "metadata": {
    "colab": {
     "base_uri": "https://localhost:8080/"
    },
    "id": "BuwQM6aqqX78",
    "outputId": "6ad78155-5039-4277-cc30-c1dbbe36ed29"
   },
   "outputs": [
    {
     "data": {
      "text/plain": [
       "88.67647058823529"
      ]
     },
     "execution_count": 43,
     "metadata": {},
     "output_type": "execute_result"
    }
   ],
   "source": [
    "from sklearn.linear_model import LogisticRegression\n",
    "\n",
    "logistic = LogisticRegression()\n",
    "logistic.fit(train_X, train_Y)\n",
    "predictions_logistic = logistic.predict(test_X)\n",
    "logistic__score = logistic.score(test_X, test_Y) * 100\n",
    "logistic__score"
   ]
  },
  {
   "cell_type": "code",
   "execution_count": null,
   "id": "NwnAVSuBDQdn",
   "metadata": {
    "colab": {
     "base_uri": "https://localhost:8080/"
    },
    "id": "NwnAVSuBDQdn",
    "outputId": "ed4ad84c-d4c9-4308-923b-c7f3133a677d"
   },
   "outputs": [
    {
     "data": {
      "text/plain": [
       "188     0\n",
       "809     0\n",
       "1583    0\n",
       "1090    0\n",
       "674     0\n",
       "       ..\n",
       "123     1\n",
       "1713    0\n",
       "394     0\n",
       "1027    0\n",
       "1442    0\n",
       "Name: PotentialFraud, Length: 680, dtype: int64"
      ]
     },
     "execution_count": 44,
     "metadata": {},
     "output_type": "execute_result"
    }
   ],
   "source": [
    "test_Y"
   ]
  },
  {
   "cell_type": "code",
   "execution_count": null,
   "id": "GO8Iw-wNDun3",
   "metadata": {
    "colab": {
     "base_uri": "https://localhost:8080/"
    },
    "id": "GO8Iw-wNDun3",
    "outputId": "f8d70fc4-e867-4949-cbd1-d3f80c6394ca"
   },
   "outputs": [
    {
     "data": {
      "text/plain": [
       "680"
      ]
     },
     "execution_count": 45,
     "metadata": {},
     "output_type": "execute_result"
    }
   ],
   "source": [
    "len(list(predictions_logistic))"
   ]
  },
  {
   "cell_type": "code",
   "execution_count": null,
   "id": "gaajiXXSFSJo",
   "metadata": {
    "colab": {
     "base_uri": "https://localhost:8080/"
    },
    "id": "gaajiXXSFSJo",
    "outputId": "108e022f-26bd-4b62-ff2d-904087935870"
   },
   "outputs": [
    {
     "data": {
      "text/plain": [
       "680"
      ]
     },
     "execution_count": 46,
     "metadata": {},
     "output_type": "execute_result"
    }
   ],
   "source": [
    "len(list(test_Y))"
   ]
  },
  {
   "cell_type": "code",
   "execution_count": null,
   "id": "2ec9ab7e",
   "metadata": {
    "colab": {
     "base_uri": "https://localhost:8080/"
    },
    "id": "2ec9ab7e",
    "outputId": "7aa3b2fa-f292-4491-fbf6-c7e25b4ac7e5"
   },
   "outputs": [
    {
     "data": {
      "text/plain": [
       "88.67647058823529"
      ]
     },
     "execution_count": 47,
     "metadata": {},
     "output_type": "execute_result"
    }
   ],
   "source": [
    "# Decision Tree Classifier\n",
    "decision_tree = DecisionTreeClassifier()\n",
    "decision_tree.fit(train_X, train_Y)\n",
    "\n",
    "predictions_dt = decision_tree.predict(test_X)\n",
    "decision_tree_score = decision_tree.score(test_X, test_Y) * 100\n",
    "decision_tree_score"
   ]
  },
  {
   "cell_type": "code",
   "execution_count": null,
   "id": "6a6d33ea",
   "metadata": {
    "colab": {
     "base_uri": "https://localhost:8080/"
    },
    "id": "6a6d33ea",
    "outputId": "4217dadd-4714-4df0-ba43-acaaa799c52d"
   },
   "outputs": [
    {
     "data": {
      "text/plain": [
       "90.73529411764706"
      ]
     },
     "execution_count": 48,
     "metadata": {},
     "output_type": "execute_result"
    }
   ],
   "source": [
    "# Random Forest\n",
    "random_forest = RandomForestClassifier(n_estimators= 100)\n",
    "random_forest.fit(train_X, train_Y)\n",
    "\n",
    "predictions_rf = random_forest.predict(test_X)\n",
    "random_forest_score = random_forest.score(test_X, test_Y) * 100\n",
    "random_forest_score"
   ]
  },
  {
   "cell_type": "code",
   "execution_count": null,
   "id": "268379be",
   "metadata": {
    "colab": {
     "base_uri": "https://localhost:8080/"
    },
    "id": "268379be",
    "outputId": "dc90fd8c-4ffc-4565-fc8d-65464098bff3"
   },
   "outputs": [
    {
     "name": "stdout",
     "output_type": "stream",
     "text": [
      "Random Forest Score:  90.73529411764706\n",
      "Decision Tree Score:  88.67647058823529\n",
      "logistic regression Score:  88.67647058823529\n"
     ]
    }
   ],
   "source": [
    "# Print scores of our classifiers\n",
    "\n",
    "print(\"Random Forest Score: \", random_forest_score)\n",
    "print(\"Decision Tree Score: \", decision_tree_score)\n",
    "print(\"logistic regression Score: \", logistic__score)"
   ]
  },
  {
   "cell_type": "markdown",
   "id": "pljPtFroHlzz",
   "metadata": {
    "id": "pljPtFroHlzz"
   },
   "source": [
    "#Evaluation de modele en terme d'erreur"
   ]
  },
  {
   "cell_type": "code",
   "execution_count": null,
   "id": "W8asnPF7G07q",
   "metadata": {
    "id": "W8asnPF7G07q"
   },
   "outputs": [],
   "source": [
    "error_logistic = mean_squared_error(test_Y,predictions_logistic)\n",
    "error_dt = mean_squared_error(test_Y,predictions_dt)\n",
    "error_rf = mean_squared_error(test_Y,predictions_rf)"
   ]
  },
  {
   "cell_type": "code",
   "execution_count": null,
   "id": "4UMwIVWWKFVS",
   "metadata": {
    "colab": {
     "base_uri": "https://localhost:8080/"
    },
    "id": "4UMwIVWWKFVS",
    "outputId": "37230bda-e253-4b0f-b4ca-3ea94a4a2d17"
   },
   "outputs": [
    {
     "name": "stdout",
     "output_type": "stream",
     "text": [
      "Random Forest error:  0.09264705882352942\n",
      "Decision Tree error:  0.11323529411764706\n",
      "logistic regression error:  0.11323529411764706\n"
     ]
    }
   ],
   "source": [
    "# Print errors of our classifiers\n",
    "\n",
    "print(\"Random Forest error: \", error_rf)\n",
    "print(\"Decision Tree error: \", error_dt)\n",
    "print(\"logistic regression error: \", error_logistic)"
   ]
  },
  {
   "cell_type": "code",
   "execution_count": null,
   "id": "OWe6p-B7Hjlr",
   "metadata": {
    "colab": {
     "base_uri": "https://localhost:8080/"
    },
    "id": "OWe6p-B7Hjlr",
    "outputId": "d4936816-0e29-4f5a-fcc6-11c377922aca"
   },
   "outputs": [
    {
     "data": {
      "text/plain": [
       "0.11323529411764706"
      ]
     },
     "execution_count": 52,
     "metadata": {},
     "output_type": "execute_result"
    }
   ],
   "source": [
    "error_logistic"
   ]
  },
  {
   "cell_type": "code",
   "execution_count": null,
   "id": "adf6ead7",
   "metadata": {
    "id": "adf6ead7"
   },
   "outputs": [],
   "source": [
    "# The below function is directly taken from the scikit-learn website to plot the confusion matrix\n",
    "\n",
    "def plot_confusion_matrix(cm, classes, normalize=False, title='Confusion Matrix', cmap=plt.cm.Blues):\n",
    "    \"\"\"\n",
    "    This function prints and plots the confusion matrix.\n",
    "    Normalization can be applied by setting `normalize=True`.\n",
    "    \"\"\"\n",
    "    if normalize:\n",
    "        cm = cm.astype('float') / cm.sum(axis=1)[:, np.newaxis]\n",
    "        print(\"Normalized confusion matrix\")\n",
    "    else:\n",
    "        print('Confusion matrix, without normalization')\n",
    "\n",
    "    plt.imshow(cm, interpolation='nearest', cmap=cmap)\n",
    "    plt.title(title)\n",
    "    plt.colorbar()\n",
    "    tick_marks = np.arange(len(classes))\n",
    "    plt.xticks(tick_marks, classes, rotation=0)\n",
    "    plt.yticks(tick_marks, classes)\n",
    "\n",
    "    fmt = '.2f' if normalize else 'd'\n",
    "    thresh = cm.max() / 2.\n",
    "    for i, j in itertools.product(range(cm.shape[0]), range(cm.shape[1])):\n",
    "        plt.text(j, i, format(cm[i, j], fmt), horizontalalignment=\"center\", color=\"white\" if cm[i, j] > thresh else \"black\")\n",
    "\n",
    "    plt.ylabel('True label')\n",
    "    plt.xlabel('Predicted label')\n",
    "    plt.tight_layout()\n",
    "\n"
   ]
  },
  {
   "cell_type": "code",
   "execution_count": null,
   "id": "pwesdBryUbp4",
   "metadata": {
    "colab": {
     "base_uri": "https://localhost:8080/"
    },
    "id": "pwesdBryUbp4",
    "outputId": "076fd656-11c6-4cd4-8d19-44ada7f42f7f"
   },
   "outputs": [
    {
     "name": "stdout",
     "output_type": "stream",
     "text": [
      "Confusion Matrix - Logistic regression\n",
      "[[603   0]\n",
      " [ 77   0]]\n"
     ]
    }
   ],
   "source": [
    "# Plot confusion matrix for Logistic regression \n",
    "\n",
    "confusion_matrix_logistic = confusion_matrix(test_Y, predictions_logistic.round())\n",
    "print(\"Confusion Matrix - Logistic regression\")\n",
    "print(confusion_matrix_logistic)"
   ]
  },
  {
   "cell_type": "code",
   "execution_count": null,
   "id": "7u0RaQywWEQA",
   "metadata": {
    "colab": {
     "base_uri": "https://localhost:8080/",
     "height": 315
    },
    "id": "7u0RaQywWEQA",
    "outputId": "e3719bb6-b804-444f-8b87-0c0c9be8060a"
   },
   "outputs": [
    {
     "name": "stdout",
     "output_type": "stream",
     "text": [
      "Confusion matrix, without normalization\n"
     ]
    },
    {
     "data": {
      "image/png": "[encoded data removed]",
      "text/plain": [
       "<Figure size 432x288 with 2 Axes>"
      ]
     },
     "metadata": {
      "needs_background": "light"
     },
     "output_type": "display_data"
    }
   ],
   "source": [
    "plot_confusion_matrix(confusion_matrix_logistic, classes=[0, 1], title= \"Confusion Matrix - Logistic regression\")"
   ]
  },
  {
   "cell_type": "code",
   "execution_count": null,
   "id": "0cc73768",
   "metadata": {
    "colab": {
     "base_uri": "https://localhost:8080/"
    },
    "id": "0cc73768",
    "outputId": "59b5d5c7-47ae-4a96-ffdf-4445501116c0"
   },
   "outputs": [
    {
     "name": "stdout",
     "output_type": "stream",
     "text": [
      "Confusion Matrix - Decision Tree\n",
      "[[561  42]\n",
      " [ 35  42]]\n"
     ]
    }
   ],
   "source": [
    "# Plot confusion matrix for Decision Trees\n",
    "\n",
    "confusion_matrix_dt = confusion_matrix(test_Y, predictions_dt.round())\n",
    "print(\"Confusion Matrix - Decision Tree\")\n",
    "print(confusion_matrix_dt)"
   ]
  },
  {
   "cell_type": "code",
   "execution_count": null,
   "id": "uh20LxgEV-pQ",
   "metadata": {
    "id": "uh20LxgEV-pQ"
   },
   "outputs": [],
   "source": []
  },
  {
   "cell_type": "code",
   "execution_count": null,
   "id": "6f6d3027",
   "metadata": {
    "colab": {
     "base_uri": "https://localhost:8080/",
     "height": 315
    },
    "id": "6f6d3027",
    "outputId": "5ec5f1a3-e5d3-4053-b523-7e128fb7b5fa"
   },
   "outputs": [
    {
     "name": "stdout",
     "output_type": "stream",
     "text": [
      "Confusion matrix, without normalization\n"
     ]
    },
    {
     "data": {
      "image/png": "[encoded data removed]",
      "text/plain": [
       "<Figure size 432x288 with 2 Axes>"
      ]
     },
     "metadata": {
      "needs_background": "light"
     },
     "output_type": "display_data"
    }
   ],
   "source": [
    "plot_confusion_matrix(confusion_matrix_dt, classes=[0, 1], title= \"Confusion Matrix - Decision Tree\")"
   ]
  },
  {
   "cell_type": "code",
   "execution_count": null,
   "id": "07c23d0a",
   "metadata": {
    "colab": {
     "base_uri": "https://localhost:8080/"
    },
    "id": "07c23d0a",
    "outputId": "3af53ce3-eff0-4042-a3e0-6d64f7b6d5a4"
   },
   "outputs": [
    {
     "name": "stdout",
     "output_type": "stream",
     "text": [
      "Confusion Matrix - Random Forest\n",
      "[[571  32]\n",
      " [ 31  46]]\n"
     ]
    }
   ],
   "source": [
    "# Plot confusion matrix for Random Forests\n",
    "\n",
    "confusion_matrix_rf = confusion_matrix(test_Y, predictions_rf.round())\n",
    "print(\"Confusion Matrix - Random Forest\")\n",
    "print(confusion_matrix_rf)"
   ]
  },
  {
   "cell_type": "code",
   "execution_count": null,
   "id": "65f9da07",
   "metadata": {
    "colab": {
     "base_uri": "https://localhost:8080/",
     "height": 315
    },
    "id": "65f9da07",
    "outputId": "a52d9404-f6c6-4c1c-9766-0a4307993bfa"
   },
   "outputs": [
    {
     "name": "stdout",
     "output_type": "stream",
     "text": [
      "Confusion matrix, without normalization\n"
     ]
    },
    {
     "data": {
      "image/png": "[encoded data removed]",
      "text/plain": [
       "<Figure size 432x288 with 2 Axes>"
      ]
     },
     "metadata": {
      "needs_background": "light"
     },
     "output_type": "display_data"
    }
   ],
   "source": [
    "plot_confusion_matrix(confusion_matrix_rf, classes=[0, 1], title= \"Confusion Matrix - Random Forest\")"
   ]
  },
  {
   "cell_type": "code",
   "execution_count": null,
   "id": "5246baf8",
   "metadata": {
    "id": "5246baf8"
   },
   "outputs": [],
   "source": [
    "# The below function prints the following necesary metrics\n",
    "\n",
    "def metrics(actuals, predictions):\n",
    "    print(\"Accuracy: {:.5f}\".format(accuracy_score(actuals, predictions)))\n",
    "    print(\"Precision: {:.5f}\".format(precision_score(actuals, predictions)))\n",
    "    print(\"Recall: {:.5f}\".format(recall_score(actuals, predictions)))\n",
    "    print(\"F1-score: {:.5f}\".format(f1_score(actuals, predictions)))\n",
    "    "
   ]
  },
  {
   "cell_type": "code",
   "execution_count": null,
   "id": "cb45ff83",
   "metadata": {
    "colab": {
     "base_uri": "https://localhost:8080/"
    },
    "id": "cb45ff83",
    "outputId": "47f92644-5119-4f65-d5ca-db0ce213c5fc"
   },
   "outputs": [
    {
     "name": "stdout",
     "output_type": "stream",
     "text": [
      "Evaluation of Decision Tree Model\n",
      "\n",
      "Accuracy: 0.88676\n",
      "Precision: 0.50000\n",
      "Recall: 0.54545\n",
      "F1-score: 0.52174\n"
     ]
    }
   ],
   "source": [
    "print(\"Evaluation of Decision Tree Model\")\n",
    "print()\n",
    "metrics(test_Y, predictions_dt.round())"
   ]
  },
  {
   "cell_type": "code",
   "execution_count": null,
   "id": "fb90440b",
   "metadata": {
    "colab": {
     "base_uri": "https://localhost:8080/"
    },
    "id": "fb90440b",
    "outputId": "ca3ae152-d853-475f-b5e6-2131001be501"
   },
   "outputs": [
    {
     "name": "stdout",
     "output_type": "stream",
     "text": [
      "Evaluation of Random Forest Model\n",
      "\n",
      "Accuracy: 0.90735\n",
      "Precision: 0.58974\n",
      "Recall: 0.59740\n",
      "F1-score: 0.59355\n"
     ]
    }
   ],
   "source": [
    "print(\"Evaluation of Random Forest Model\")\n",
    "print()\n",
    "metrics(test_Y, predictions_rf.round())"
   ]
  },
  {
   "cell_type": "markdown",
   "id": "2ea205b5",
   "metadata": {
    "id": "2ea205b5"
   },
   "source": [
    "Clearly, Random Forest model works better than Decision Trees"
   ]
  },
  {
   "cell_type": "markdown",
   "id": "0f441902",
   "metadata": {
    "id": "0f441902"
   },
   "source": [
    "Mais, si nous observons clairement que notre ensemble de données souffre d'un sérieux problème de **déséquilibre de classe**.\n",
    "Les transactions authentiques (et non frauduleuses) représentent plus de 99 %, les transactions frauduleuses constituant 0,17 %.\n",
    "\n",
    "Avec un tel type de distribution, si nous entraînons notre modèle sans prendre en compte les problèmes de déséquilibre, il prédit l'étiquette avec une plus grande importance accordée aux transactions authentiques (car il y a plus de données à leur sujet) et obtient donc plus de précision."
   ]
  },
  {
   "cell_type": "markdown",
   "id": "e636cb0d",
   "metadata": {
    "id": "e636cb0d"
   },
   "source": [
    "Le problème du déséquilibre des classes peut être résolu par diverses techniques. Le **suréchantillonnage** en fait partie.\n",
    " \n",
    "Une approche pour traiter les ensembles de données déséquilibrés consiste à suréchantillonner la classe minoritaire. L'approche la plus simple consiste à dupliquer des exemples dans la classe minoritaire, bien que ces exemples n'ajoutent aucune nouvelle information au modèle.\n",
    "\n",
    "Au lieu de cela, de nouveaux exemples peuvent être synthétisés à partir des exemples existants. Il s'agit d'un type d'augmentation des données pour la classe minoritaire et est appelé **technique de suréchantillonnage synthétique des minorités**, ou **SMOTE** en abrégé."
   ]
  },
  {
   "cell_type": "code",
   "execution_count": null,
   "id": "99cae818",
   "metadata": {
    "colab": {
     "base_uri": "https://localhost:8080/"
    },
    "id": "99cae818",
    "outputId": "5e14c4fd-a062-459b-f6f4-180067ce85c8"
   },
   "outputs": [
    {
     "name": "stdout",
     "output_type": "stream",
     "text": [
      "Resampled shape of X:  (4026, 13)\n",
      "Resampled shape of Y:  (4026,)\n",
      "Counter({0: 2013, 1: 2013})\n"
     ]
    }
   ],
   "source": [
    "# Performing oversampling on RF and DT\n",
    "\n",
    "from imblearn.over_sampling import SMOTE\n",
    "\n",
    "X_resampled, Y_resampled = SMOTE().fit_resample(X, Y)\n",
    "print(\"Resampled shape of X: \", X_resampled.shape)\n",
    "print(\"Resampled shape of Y: \", Y_resampled.shape)\n",
    "\n",
    "value_counts = Counter(Y_resampled)\n",
    "print(value_counts)\n",
    "\n",
    "(train_X, test_X, train_Y, test_Y) = train_test_split(X_resampled, Y_resampled, test_size= 0.3, random_state= 42)"
   ]
  },
  {
   "cell_type": "code",
   "execution_count": null,
   "id": "a6e01a48",
   "metadata": {
    "id": "a6e01a48"
   },
   "outputs": [],
   "source": [
    "# Build the Random Forest classifier on the new dataset\n",
    "\n",
    "rf_resampled = RandomForestClassifier(n_estimators = 100)\n",
    "rf_resampled.fit(train_X, train_Y)\n",
    "\n",
    "predictions_resampled = rf_resampled.predict(test_X)\n",
    "random_forest_score_resampled = rf_resampled.score(test_X, test_Y) * 100"
   ]
  },
  {
   "cell_type": "code",
   "execution_count": null,
   "id": "dfa4b7d8",
   "metadata": {
    "colab": {
     "base_uri": "https://localhost:8080/"
    },
    "id": "dfa4b7d8",
    "outputId": "4d90583f-4f46-4e19-f6fe-e336186a6efb"
   },
   "outputs": [
    {
     "name": "stdout",
     "output_type": "stream",
     "text": [
      "Confusion Matrix - Random Forest\n",
      "[[557  62]\n",
      " [ 22 567]]\n"
     ]
    }
   ],
   "source": [
    "# Visualize the confusion matrix\n",
    "\n",
    "cm_resampled = confusion_matrix(test_Y, predictions_resampled.round())\n",
    "print(\"Confusion Matrix - Random Forest\")\n",
    "print(cm_resampled)"
   ]
  },
  {
   "cell_type": "code",
   "execution_count": null,
   "id": "345c1b9b",
   "metadata": {
    "colab": {
     "base_uri": "https://localhost:8080/",
     "height": 315
    },
    "id": "345c1b9b",
    "outputId": "925aa755-5380-4206-eadf-01a722e7ac6f"
   },
   "outputs": [
    {
     "name": "stdout",
     "output_type": "stream",
     "text": [
      "Confusion matrix, without normalization\n"
     ]
    },
    {
     "data": {
      "image/png": "[encoded data removed]",
      "text/plain": [
       "<Figure size 432x288 with 2 Axes>"
      ]
     },
     "metadata": {},
     "output_type": "display_data"
    }
   ],
   "source": [
    "plot_confusion_matrix(cm_resampled, classes=[0, 1], title= \"Confusion Matrix - Random Forest After Oversampling\")"
   ]
  },
  {
   "cell_type": "code",
   "execution_count": null,
   "id": "ac57001a",
   "metadata": {
    "colab": {
     "base_uri": "https://localhost:8080/"
    },
    "id": "ac57001a",
    "outputId": "50ea0bd6-1fad-479b-f488-f494d3eb510e"
   },
   "outputs": [
    {
     "name": "stdout",
     "output_type": "stream",
     "text": [
      "Evaluation of Random Forest Model\n",
      "\n",
      "Accuracy: 0.93046\n",
      "Precision: 0.90143\n",
      "Recall: 0.96265\n",
      "F1-score: 0.93103\n"
     ]
    }
   ],
   "source": [
    "print(\"Evaluation of Random Forest Model\")\n",
    "print()\n",
    "metrics(test_Y, predictions_resampled.round())"
   ]
  },
  {
   "cell_type": "markdown",
   "id": "fb9e53fe",
   "metadata": {
    "id": "fb9e53fe"
   },
   "source": [
    "Now it is evident that after addressing the class imbalance problem, our Random forest classifier with SMOTE performs far better than the Random forest classifier withour SMOTE"
   ]
  },
  {
   "cell_type": "code",
   "execution_count": null,
   "id": "f12b6940",
   "metadata": {
    "id": "f12b6940"
   },
   "outputs": [],
   "source": []
  }
 ],
 "metadata": {
  "colab": {
   "collapsed_sections": [],
   "provenance": []
  },
  "kernelspec": {
   "display_name": "Python 3 (ipykernel)",
   "language": "python",
   "name": "python3"
  },
  "language_info": {
   "codemirror_mode": {
    "name": "ipython",
    "version": 3
   },
   "file_extension": ".py",
   "mimetype": "text/x-python",
   "name": "python",
   "nbconvert_exporter": "python",
   "pygments_lexer": "ipython3",
   "version": "3.11.7"
  }
 },
 "nbformat": 4,
 "nbformat_minor": 5
}
